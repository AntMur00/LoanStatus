{
  "cells": [
    {
      "cell_type": "markdown",
      "metadata": {
        "id": "FBSIdOOFhC5N"
      },
      "source": [
        "# Система автоматизированного выбора и настройки алгоритма классификации задачи кредитного скоринга"
      ]
    },
    {
      "cell_type": "markdown",
      "metadata": {
        "id": "rO-QAouOfYL9"
      },
      "source": [
        "## Загрузка и анализ данных"
      ]
    },
    {
      "cell_type": "markdown",
      "metadata": {
        "id": "m2yQiwajgRqV"
      },
      "source": [
        "### Загрузка библиотек, датасета для кредитного скоринга"
      ]
    },
    {
      "cell_type": "markdown",
      "metadata": {},
      "source": [
        "Библиотеки:\n",
        "* pandas\n",
        "* sklearn\n",
        "* kagglehub\n",
        "* matplotlib\n",
        "* seaborn\n",
        "* tpot\n",
        "* h20"
      ]
    },
    {
      "cell_type": "code",
      "execution_count": 371,
      "metadata": {
        "id": "Y1Fj2Na1ddyr"
      },
      "outputs": [],
      "source": [
        "import warnings\n",
        "warnings.filterwarnings(\"ignore\")"
      ]
    },
    {
      "cell_type": "code",
      "execution_count": 372,
      "metadata": {
        "id": "flU1UhP6ddyv"
      },
      "outputs": [],
      "source": [
        "import pandas as pd\n",
        "import numpy as np\n",
        "from sklearn.model_selection import train_test_split\n",
        "import sklearn.metrics\n",
        "from sklearn import utils\n",
        "from sklearn.metrics import(\n",
        "    mean_squared_error,\n",
        "    mean_absolute_error,\n",
        "    r2_score,\n",
        "    accuracy_score,\n",
        "    precision_score,\n",
        "    recall_score,\n",
        "    f1_score,\n",
        "    roc_auc_score,\n",
        "    confusion_matrix,\n",
        "    classification_report\n",
        ")"
      ]
    },
    {
      "cell_type": "code",
      "execution_count": 373,
      "metadata": {
        "colab": {
          "base_uri": "https://localhost:8080/"
        },
        "id": "R9pdWKOgddyw",
        "outputId": "fbcaf9d3-dafa-4c1e-c047-4d7ab1e24d5a"
      },
      "outputs": [
        {
          "name": "stdout",
          "output_type": "stream",
          "text": [
            "Path to dataset files: C:\\Users\\AntMur00\\.cache\\kagglehub\\datasets\\kornilovag94\\bank-credit-default-loan-default\\versions\\2\n"
          ]
        }
      ],
      "source": [
        "import kagglehub\n",
        "\n",
        "# Download latest version\n",
        "path = kagglehub.dataset_download(\"kornilovag94/bank-credit-default-loan-default\")\n",
        "\n",
        "print(\"Path to dataset files:\", path)"
      ]
    },
    {
      "cell_type": "code",
      "execution_count": 374,
      "metadata": {
        "id": "jAW7RSbsddyy"
      },
      "outputs": [],
      "source": [
        "data = pd.read_parquet(path+'/data/train_data/train_data_0.pq')"
      ]
    },
    {
      "cell_type": "code",
      "execution_count": 375,
      "metadata": {
        "colab": {
          "base_uri": "https://localhost:8080/"
        },
        "id": "SVgbpmoE7PA4",
        "outputId": "9a8b977e-9911-4954-db79-76e63f13fb5e"
      },
      "outputs": [
        {
          "name": "stdout",
          "output_type": "stream",
          "text": [
            "Количество записей в первом файле датасета: 1974724\n"
          ]
        }
      ],
      "source": [
        "dataset_count=len(data)\n",
        "print(f\"Количество записей в первом файле датасета: {dataset_count}\")"
      ]
    },
    {
      "cell_type": "code",
      "execution_count": 376,
      "metadata": {
        "colab": {
          "base_uri": "https://localhost:8080/"
        },
        "id": "6zhhwwPbeOIX",
        "outputId": "cb9e7297-0057-4b6a-aed9-2d885bfcc570"
      },
      "outputs": [
        {
          "name": "stdout",
          "output_type": "stream",
          "text": [
            "Общее количество записей в датасете: 26162717\n"
          ]
        }
      ],
      "source": [
        "import os\n",
        "i = 1\n",
        "while os.path.isfile(path+f'/data/train_data/train_data_{i}.pq'):\n",
        "    temp_path = path+f'/data/train_data/train_data_{i}.pq'\n",
        "    data_temp = len(pd.read_parquet(temp_path))\n",
        "    dataset_count += data_temp\n",
        "    i+=1\n",
        "print(f\"Общее количество записей в датасете: {dataset_count}\")"
      ]
    },
    {
      "cell_type": "code",
      "execution_count": 377,
      "metadata": {
        "colab": {
          "base_uri": "https://localhost:8080/",
          "height": 226
        },
        "id": "XnTCH5Kgddyy",
        "outputId": "c344093e-0783-4097-edb0-2c436b0db31d"
      },
      "outputs": [
        {
          "data": {
            "text/html": [
              "<div>\n",
              "<style scoped>\n",
              "    .dataframe tbody tr th:only-of-type {\n",
              "        vertical-align: middle;\n",
              "    }\n",
              "\n",
              "    .dataframe tbody tr th {\n",
              "        vertical-align: top;\n",
              "    }\n",
              "\n",
              "    .dataframe thead th {\n",
              "        text-align: right;\n",
              "    }\n",
              "</style>\n",
              "<table border=\"1\" class=\"dataframe\">\n",
              "  <thead>\n",
              "    <tr style=\"text-align: right;\">\n",
              "      <th></th>\n",
              "      <th>id</th>\n",
              "      <th>rn</th>\n",
              "      <th>pre_since_opened</th>\n",
              "      <th>pre_since_confirmed</th>\n",
              "      <th>pre_pterm</th>\n",
              "      <th>pre_fterm</th>\n",
              "      <th>pre_till_pclose</th>\n",
              "      <th>pre_till_fclose</th>\n",
              "      <th>pre_loans_credit_limit</th>\n",
              "      <th>pre_loans_next_pay_summ</th>\n",
              "      <th>pre_loans_outstanding</th>\n",
              "      <th>pre_loans_total_overdue</th>\n",
              "      <th>pre_loans_max_overdue_sum</th>\n",
              "      <th>pre_loans_credit_cost_rate</th>\n",
              "      <th>pre_loans5</th>\n",
              "      <th>pre_loans530</th>\n",
              "      <th>pre_loans3060</th>\n",
              "      <th>pre_loans6090</th>\n",
              "      <th>pre_loans90</th>\n",
              "      <th>is_zero_loans5</th>\n",
              "      <th>is_zero_loans530</th>\n",
              "      <th>is_zero_loans3060</th>\n",
              "      <th>is_zero_loans6090</th>\n",
              "      <th>is_zero_loans90</th>\n",
              "      <th>pre_util</th>\n",
              "      <th>pre_over2limit</th>\n",
              "      <th>pre_maxover2limit</th>\n",
              "      <th>is_zero_util</th>\n",
              "      <th>is_zero_over2limit</th>\n",
              "      <th>is_zero_maxover2limit</th>\n",
              "      <th>enc_paym_0</th>\n",
              "      <th>enc_paym_1</th>\n",
              "      <th>enc_paym_2</th>\n",
              "      <th>enc_paym_3</th>\n",
              "      <th>enc_paym_4</th>\n",
              "      <th>enc_paym_5</th>\n",
              "      <th>enc_paym_6</th>\n",
              "      <th>enc_paym_7</th>\n",
              "      <th>enc_paym_8</th>\n",
              "      <th>enc_paym_9</th>\n",
              "      <th>enc_paym_10</th>\n",
              "      <th>enc_paym_11</th>\n",
              "      <th>enc_paym_12</th>\n",
              "      <th>enc_paym_13</th>\n",
              "      <th>enc_paym_14</th>\n",
              "      <th>enc_paym_15</th>\n",
              "      <th>enc_paym_16</th>\n",
              "      <th>enc_paym_17</th>\n",
              "      <th>enc_paym_18</th>\n",
              "      <th>enc_paym_19</th>\n",
              "      <th>enc_paym_20</th>\n",
              "      <th>enc_paym_21</th>\n",
              "      <th>enc_paym_22</th>\n",
              "      <th>enc_paym_23</th>\n",
              "      <th>enc_paym_24</th>\n",
              "      <th>enc_loans_account_holder_type</th>\n",
              "      <th>enc_loans_credit_status</th>\n",
              "      <th>enc_loans_credit_type</th>\n",
              "      <th>enc_loans_account_cur</th>\n",
              "      <th>pclose_flag</th>\n",
              "      <th>fclose_flag</th>\n",
              "    </tr>\n",
              "  </thead>\n",
              "  <tbody>\n",
              "    <tr>\n",
              "      <th>0</th>\n",
              "      <td>0</td>\n",
              "      <td>1</td>\n",
              "      <td>18</td>\n",
              "      <td>9</td>\n",
              "      <td>2</td>\n",
              "      <td>3</td>\n",
              "      <td>16</td>\n",
              "      <td>10</td>\n",
              "      <td>11</td>\n",
              "      <td>3</td>\n",
              "      <td>3</td>\n",
              "      <td>0</td>\n",
              "      <td>2</td>\n",
              "      <td>11</td>\n",
              "      <td>6</td>\n",
              "      <td>16</td>\n",
              "      <td>5</td>\n",
              "      <td>4</td>\n",
              "      <td>8</td>\n",
              "      <td>1</td>\n",
              "      <td>1</td>\n",
              "      <td>1</td>\n",
              "      <td>1</td>\n",
              "      <td>1</td>\n",
              "      <td>16</td>\n",
              "      <td>2</td>\n",
              "      <td>17</td>\n",
              "      <td>1</td>\n",
              "      <td>1</td>\n",
              "      <td>1</td>\n",
              "      <td>0</td>\n",
              "      <td>0</td>\n",
              "      <td>3</td>\n",
              "      <td>3</td>\n",
              "      <td>3</td>\n",
              "      <td>3</td>\n",
              "      <td>3</td>\n",
              "      <td>3</td>\n",
              "      <td>3</td>\n",
              "      <td>3</td>\n",
              "      <td>3</td>\n",
              "      <td>4</td>\n",
              "      <td>3</td>\n",
              "      <td>3</td>\n",
              "      <td>3</td>\n",
              "      <td>3</td>\n",
              "      <td>3</td>\n",
              "      <td>3</td>\n",
              "      <td>3</td>\n",
              "      <td>3</td>\n",
              "      <td>4</td>\n",
              "      <td>3</td>\n",
              "      <td>3</td>\n",
              "      <td>3</td>\n",
              "      <td>4</td>\n",
              "      <td>1</td>\n",
              "      <td>3</td>\n",
              "      <td>4</td>\n",
              "      <td>1</td>\n",
              "      <td>0</td>\n",
              "      <td>0</td>\n",
              "    </tr>\n",
              "    <tr>\n",
              "      <th>1</th>\n",
              "      <td>0</td>\n",
              "      <td>2</td>\n",
              "      <td>18</td>\n",
              "      <td>9</td>\n",
              "      <td>14</td>\n",
              "      <td>14</td>\n",
              "      <td>12</td>\n",
              "      <td>12</td>\n",
              "      <td>0</td>\n",
              "      <td>3</td>\n",
              "      <td>3</td>\n",
              "      <td>0</td>\n",
              "      <td>2</td>\n",
              "      <td>11</td>\n",
              "      <td>6</td>\n",
              "      <td>16</td>\n",
              "      <td>5</td>\n",
              "      <td>4</td>\n",
              "      <td>8</td>\n",
              "      <td>1</td>\n",
              "      <td>1</td>\n",
              "      <td>1</td>\n",
              "      <td>1</td>\n",
              "      <td>1</td>\n",
              "      <td>16</td>\n",
              "      <td>2</td>\n",
              "      <td>17</td>\n",
              "      <td>1</td>\n",
              "      <td>1</td>\n",
              "      <td>1</td>\n",
              "      <td>0</td>\n",
              "      <td>0</td>\n",
              "      <td>0</td>\n",
              "      <td>0</td>\n",
              "      <td>0</td>\n",
              "      <td>0</td>\n",
              "      <td>0</td>\n",
              "      <td>0</td>\n",
              "      <td>0</td>\n",
              "      <td>0</td>\n",
              "      <td>0</td>\n",
              "      <td>1</td>\n",
              "      <td>0</td>\n",
              "      <td>0</td>\n",
              "      <td>0</td>\n",
              "      <td>0</td>\n",
              "      <td>0</td>\n",
              "      <td>0</td>\n",
              "      <td>0</td>\n",
              "      <td>0</td>\n",
              "      <td>1</td>\n",
              "      <td>0</td>\n",
              "      <td>0</td>\n",
              "      <td>0</td>\n",
              "      <td>4</td>\n",
              "      <td>1</td>\n",
              "      <td>3</td>\n",
              "      <td>4</td>\n",
              "      <td>1</td>\n",
              "      <td>0</td>\n",
              "      <td>0</td>\n",
              "    </tr>\n",
              "    <tr>\n",
              "      <th>2</th>\n",
              "      <td>0</td>\n",
              "      <td>3</td>\n",
              "      <td>18</td>\n",
              "      <td>9</td>\n",
              "      <td>4</td>\n",
              "      <td>8</td>\n",
              "      <td>1</td>\n",
              "      <td>11</td>\n",
              "      <td>11</td>\n",
              "      <td>0</td>\n",
              "      <td>5</td>\n",
              "      <td>0</td>\n",
              "      <td>2</td>\n",
              "      <td>8</td>\n",
              "      <td>6</td>\n",
              "      <td>16</td>\n",
              "      <td>5</td>\n",
              "      <td>4</td>\n",
              "      <td>8</td>\n",
              "      <td>1</td>\n",
              "      <td>1</td>\n",
              "      <td>1</td>\n",
              "      <td>1</td>\n",
              "      <td>1</td>\n",
              "      <td>15</td>\n",
              "      <td>2</td>\n",
              "      <td>17</td>\n",
              "      <td>0</td>\n",
              "      <td>1</td>\n",
              "      <td>1</td>\n",
              "      <td>0</td>\n",
              "      <td>0</td>\n",
              "      <td>0</td>\n",
              "      <td>0</td>\n",
              "      <td>0</td>\n",
              "      <td>0</td>\n",
              "      <td>0</td>\n",
              "      <td>0</td>\n",
              "      <td>0</td>\n",
              "      <td>0</td>\n",
              "      <td>0</td>\n",
              "      <td>1</td>\n",
              "      <td>0</td>\n",
              "      <td>0</td>\n",
              "      <td>0</td>\n",
              "      <td>0</td>\n",
              "      <td>0</td>\n",
              "      <td>0</td>\n",
              "      <td>0</td>\n",
              "      <td>0</td>\n",
              "      <td>1</td>\n",
              "      <td>0</td>\n",
              "      <td>0</td>\n",
              "      <td>0</td>\n",
              "      <td>4</td>\n",
              "      <td>1</td>\n",
              "      <td>2</td>\n",
              "      <td>3</td>\n",
              "      <td>1</td>\n",
              "      <td>1</td>\n",
              "      <td>1</td>\n",
              "    </tr>\n",
              "    <tr>\n",
              "      <th>3</th>\n",
              "      <td>0</td>\n",
              "      <td>4</td>\n",
              "      <td>4</td>\n",
              "      <td>1</td>\n",
              "      <td>9</td>\n",
              "      <td>12</td>\n",
              "      <td>16</td>\n",
              "      <td>7</td>\n",
              "      <td>12</td>\n",
              "      <td>2</td>\n",
              "      <td>3</td>\n",
              "      <td>0</td>\n",
              "      <td>2</td>\n",
              "      <td>4</td>\n",
              "      <td>6</td>\n",
              "      <td>16</td>\n",
              "      <td>5</td>\n",
              "      <td>4</td>\n",
              "      <td>8</td>\n",
              "      <td>0</td>\n",
              "      <td>1</td>\n",
              "      <td>1</td>\n",
              "      <td>1</td>\n",
              "      <td>1</td>\n",
              "      <td>16</td>\n",
              "      <td>2</td>\n",
              "      <td>17</td>\n",
              "      <td>1</td>\n",
              "      <td>1</td>\n",
              "      <td>1</td>\n",
              "      <td>1</td>\n",
              "      <td>0</td>\n",
              "      <td>0</td>\n",
              "      <td>0</td>\n",
              "      <td>0</td>\n",
              "      <td>0</td>\n",
              "      <td>0</td>\n",
              "      <td>0</td>\n",
              "      <td>0</td>\n",
              "      <td>0</td>\n",
              "      <td>0</td>\n",
              "      <td>1</td>\n",
              "      <td>3</td>\n",
              "      <td>3</td>\n",
              "      <td>3</td>\n",
              "      <td>3</td>\n",
              "      <td>3</td>\n",
              "      <td>3</td>\n",
              "      <td>3</td>\n",
              "      <td>3</td>\n",
              "      <td>4</td>\n",
              "      <td>3</td>\n",
              "      <td>3</td>\n",
              "      <td>3</td>\n",
              "      <td>4</td>\n",
              "      <td>1</td>\n",
              "      <td>3</td>\n",
              "      <td>1</td>\n",
              "      <td>1</td>\n",
              "      <td>0</td>\n",
              "      <td>0</td>\n",
              "    </tr>\n",
              "    <tr>\n",
              "      <th>4</th>\n",
              "      <td>0</td>\n",
              "      <td>5</td>\n",
              "      <td>5</td>\n",
              "      <td>12</td>\n",
              "      <td>15</td>\n",
              "      <td>2</td>\n",
              "      <td>11</td>\n",
              "      <td>12</td>\n",
              "      <td>10</td>\n",
              "      <td>2</td>\n",
              "      <td>3</td>\n",
              "      <td>0</td>\n",
              "      <td>2</td>\n",
              "      <td>4</td>\n",
              "      <td>6</td>\n",
              "      <td>16</td>\n",
              "      <td>5</td>\n",
              "      <td>4</td>\n",
              "      <td>8</td>\n",
              "      <td>1</td>\n",
              "      <td>1</td>\n",
              "      <td>1</td>\n",
              "      <td>1</td>\n",
              "      <td>1</td>\n",
              "      <td>16</td>\n",
              "      <td>2</td>\n",
              "      <td>17</td>\n",
              "      <td>1</td>\n",
              "      <td>1</td>\n",
              "      <td>1</td>\n",
              "      <td>0</td>\n",
              "      <td>0</td>\n",
              "      <td>0</td>\n",
              "      <td>0</td>\n",
              "      <td>0</td>\n",
              "      <td>0</td>\n",
              "      <td>0</td>\n",
              "      <td>3</td>\n",
              "      <td>3</td>\n",
              "      <td>3</td>\n",
              "      <td>3</td>\n",
              "      <td>4</td>\n",
              "      <td>3</td>\n",
              "      <td>3</td>\n",
              "      <td>3</td>\n",
              "      <td>3</td>\n",
              "      <td>3</td>\n",
              "      <td>3</td>\n",
              "      <td>3</td>\n",
              "      <td>3</td>\n",
              "      <td>4</td>\n",
              "      <td>3</td>\n",
              "      <td>3</td>\n",
              "      <td>3</td>\n",
              "      <td>4</td>\n",
              "      <td>1</td>\n",
              "      <td>3</td>\n",
              "      <td>4</td>\n",
              "      <td>1</td>\n",
              "      <td>0</td>\n",
              "      <td>0</td>\n",
              "    </tr>\n",
              "  </tbody>\n",
              "</table>\n",
              "</div>"
            ],
            "text/plain": [
              "   id  rn  pre_since_opened  pre_since_confirmed  pre_pterm  pre_fterm  \\\n",
              "0   0   1                18                    9          2          3   \n",
              "1   0   2                18                    9         14         14   \n",
              "2   0   3                18                    9          4          8   \n",
              "3   0   4                 4                    1          9         12   \n",
              "4   0   5                 5                   12         15          2   \n",
              "\n",
              "   pre_till_pclose  pre_till_fclose  pre_loans_credit_limit  \\\n",
              "0               16               10                      11   \n",
              "1               12               12                       0   \n",
              "2                1               11                      11   \n",
              "3               16                7                      12   \n",
              "4               11               12                      10   \n",
              "\n",
              "   pre_loans_next_pay_summ  pre_loans_outstanding  pre_loans_total_overdue  \\\n",
              "0                        3                      3                        0   \n",
              "1                        3                      3                        0   \n",
              "2                        0                      5                        0   \n",
              "3                        2                      3                        0   \n",
              "4                        2                      3                        0   \n",
              "\n",
              "   pre_loans_max_overdue_sum  pre_loans_credit_cost_rate  pre_loans5  \\\n",
              "0                          2                          11           6   \n",
              "1                          2                          11           6   \n",
              "2                          2                           8           6   \n",
              "3                          2                           4           6   \n",
              "4                          2                           4           6   \n",
              "\n",
              "   pre_loans530  pre_loans3060  pre_loans6090  pre_loans90  is_zero_loans5  \\\n",
              "0            16              5              4            8               1   \n",
              "1            16              5              4            8               1   \n",
              "2            16              5              4            8               1   \n",
              "3            16              5              4            8               0   \n",
              "4            16              5              4            8               1   \n",
              "\n",
              "   is_zero_loans530  is_zero_loans3060  is_zero_loans6090  is_zero_loans90  \\\n",
              "0                 1                  1                  1                1   \n",
              "1                 1                  1                  1                1   \n",
              "2                 1                  1                  1                1   \n",
              "3                 1                  1                  1                1   \n",
              "4                 1                  1                  1                1   \n",
              "\n",
              "   pre_util  pre_over2limit  pre_maxover2limit  is_zero_util  \\\n",
              "0        16               2                 17             1   \n",
              "1        16               2                 17             1   \n",
              "2        15               2                 17             0   \n",
              "3        16               2                 17             1   \n",
              "4        16               2                 17             1   \n",
              "\n",
              "   is_zero_over2limit  is_zero_maxover2limit  enc_paym_0  enc_paym_1  \\\n",
              "0                   1                      1           0           0   \n",
              "1                   1                      1           0           0   \n",
              "2                   1                      1           0           0   \n",
              "3                   1                      1           1           0   \n",
              "4                   1                      1           0           0   \n",
              "\n",
              "   enc_paym_2  enc_paym_3  enc_paym_4  enc_paym_5  enc_paym_6  enc_paym_7  \\\n",
              "0           3           3           3           3           3           3   \n",
              "1           0           0           0           0           0           0   \n",
              "2           0           0           0           0           0           0   \n",
              "3           0           0           0           0           0           0   \n",
              "4           0           0           0           0           0           3   \n",
              "\n",
              "   enc_paym_8  enc_paym_9  enc_paym_10  enc_paym_11  enc_paym_12  enc_paym_13  \\\n",
              "0           3           3            3            4            3            3   \n",
              "1           0           0            0            1            0            0   \n",
              "2           0           0            0            1            0            0   \n",
              "3           0           0            0            1            3            3   \n",
              "4           3           3            3            4            3            3   \n",
              "\n",
              "   enc_paym_14  enc_paym_15  enc_paym_16  enc_paym_17  enc_paym_18  \\\n",
              "0            3            3            3            3            3   \n",
              "1            0            0            0            0            0   \n",
              "2            0            0            0            0            0   \n",
              "3            3            3            3            3            3   \n",
              "4            3            3            3            3            3   \n",
              "\n",
              "   enc_paym_19  enc_paym_20  enc_paym_21  enc_paym_22  enc_paym_23  \\\n",
              "0            3            4            3            3            3   \n",
              "1            0            1            0            0            0   \n",
              "2            0            1            0            0            0   \n",
              "3            3            4            3            3            3   \n",
              "4            3            4            3            3            3   \n",
              "\n",
              "   enc_paym_24  enc_loans_account_holder_type  enc_loans_credit_status  \\\n",
              "0            4                              1                        3   \n",
              "1            4                              1                        3   \n",
              "2            4                              1                        2   \n",
              "3            4                              1                        3   \n",
              "4            4                              1                        3   \n",
              "\n",
              "   enc_loans_credit_type  enc_loans_account_cur  pclose_flag  fclose_flag  \n",
              "0                      4                      1            0            0  \n",
              "1                      4                      1            0            0  \n",
              "2                      3                      1            1            1  \n",
              "3                      1                      1            0            0  \n",
              "4                      4                      1            0            0  "
            ]
          },
          "execution_count": 377,
          "metadata": {},
          "output_type": "execute_result"
        }
      ],
      "source": [
        "pd.set_option('display.max_columns', None)\n",
        "data.head()"
      ]
    },
    {
      "cell_type": "code",
      "execution_count": 378,
      "metadata": {
        "id": "QSC6-RQMslRz"
      },
      "outputs": [],
      "source": [
        "pd.reset_option('display.max_columns')"
      ]
    },
    {
      "cell_type": "markdown",
      "metadata": {
        "id": "JIXSfBlkddyz"
      },
      "source": [
        "### Признаки\n"
      ]
    },
    {
      "cell_type": "markdown",
      "metadata": {
        "id": "9CsF-hROgAQ8"
      },
      "source": [
        "\n",
        "id - identifier of the application  \n",
        "rn - sequence number of the credit product in the credit history  \n",
        "pre_since_opened - days from credit opening date to data collection date  \n",
        "pre_since_confirmed - days from credit information confirmation date till data collection date  \n",
        "pre_pterm - planned number of days from credit opening date to closing date  \n",
        "pre_fterm - actual number of days from credit opening date to closing date  \n",
        "pre_till_pclose - planned number of days from data collection date until loan closing date  \n",
        "pre_till_fclose - actual number of days from data collection date until loan closing date  \n",
        "pre_loans_credit_limit - credit limit  \n",
        "pre_loans_next_pay_summ - amount of the next loan payment  \n",
        "pre_loans_outstanding - outstanding loan amount  \n",
        "pre_loans_total_overdue - current overdue amount  \n",
        "pre_loans_max_overdue_sum - maximum overdue amount  \n",
        "pre_loans_credit_cost_rate - total cost of credit  \n",
        "pre_loans5 - number of delinquencies of up to 5 days  \n",
        "pre_loans530 - number of delinquencies from 5 to 30 days  \n",
        "pre_loans3060 - number of delinquencies from 30 to 60 days  \n",
        "pre_loans6090 - number of delinquencies from 60 to 90 days  \n",
        "pre_loans90 - number of delinquencies of more than 90 days  \n",
        "is_zero_loans_5 - flag: no delinquencies of up to 5 days  \n",
        "is_zero_loans_530 - flag: no delinquencies of 5 to 30 days  \n",
        "is_zero_loans_3060 - flag: no delinquencies of 30 to 60 days  \n",
        "is_zero_loans_6090 - flag: no delinquencies of 60 to 90 days  \n",
        "is_zero_loans90 - flag: no delinquencies of more than 90 days  \n",
        "pre_util - ratio of outstanding loan amount to credit limit  \n",
        "pre_over2limit - ratio of currently overdue debt to credit limit  \n",
        "pre_maxover2limit - ratio of maximum overdue debt to credit limit  \n",
        "is_zero_util - flag: ratio of outstanding loan amount to credit limit equals 0  \n",
        "is_zero_over2limit - flag: ratio of current overdue debt to credit limit equals 0  \n",
        "is_zero_maxover2limit - flag: ratio of maximum overdue debt to credit limit equals 0  \n",
        "enc_paym_{0…n} - monthly payment statuses of the last n months  \n",
        "enc_loans_account_holder_type - type of relation to the loan  \n",
        "enc_loans_credit_status - credit status  \n",
        "enc_loans_account_cur - currency of the loan  \n",
        "enc_loans_credit_type - credit type  \n",
        "pclose_flag - flag: planned number of days from opening date to closing date of the loan  \n",
        "fclose_flag - flag: actual number of days from credit opening date to closing date undefined"
      ]
    },
    {
      "cell_type": "code",
      "execution_count": 379,
      "metadata": {
        "colab": {
          "base_uri": "https://localhost:8080/"
        },
        "id": "Jw0vz57vdd2U",
        "outputId": "c2ce179c-09bd-4b21-b725-08daf47dfc92"
      },
      "outputs": [
        {
          "data": {
            "text/plain": [
              "(1974724, 61)"
            ]
          },
          "execution_count": 379,
          "metadata": {},
          "output_type": "execute_result"
        }
      ],
      "source": [
        "data.shape"
      ]
    },
    {
      "cell_type": "code",
      "execution_count": 380,
      "metadata": {
        "colab": {
          "base_uri": "https://localhost:8080/"
        },
        "id": "lfudQgvYdd2X",
        "outputId": "c75d5b0f-a046-4704-d12f-23234f02bf25"
      },
      "outputs": [
        {
          "data": {
            "text/plain": [
              "Index(['id', 'rn', 'pre_since_opened', 'pre_since_confirmed', 'pre_pterm',\n",
              "       'pre_fterm', 'pre_till_pclose', 'pre_till_fclose',\n",
              "       'pre_loans_credit_limit', 'pre_loans_next_pay_summ',\n",
              "       'pre_loans_outstanding', 'pre_loans_total_overdue',\n",
              "       'pre_loans_max_overdue_sum', 'pre_loans_credit_cost_rate', 'pre_loans5',\n",
              "       'pre_loans530', 'pre_loans3060', 'pre_loans6090', 'pre_loans90',\n",
              "       'is_zero_loans5', 'is_zero_loans530', 'is_zero_loans3060',\n",
              "       'is_zero_loans6090', 'is_zero_loans90', 'pre_util', 'pre_over2limit',\n",
              "       'pre_maxover2limit', 'is_zero_util', 'is_zero_over2limit',\n",
              "       'is_zero_maxover2limit', 'enc_paym_0', 'enc_paym_1', 'enc_paym_2',\n",
              "       'enc_paym_3', 'enc_paym_4', 'enc_paym_5', 'enc_paym_6', 'enc_paym_7',\n",
              "       'enc_paym_8', 'enc_paym_9', 'enc_paym_10', 'enc_paym_11', 'enc_paym_12',\n",
              "       'enc_paym_13', 'enc_paym_14', 'enc_paym_15', 'enc_paym_16',\n",
              "       'enc_paym_17', 'enc_paym_18', 'enc_paym_19', 'enc_paym_20',\n",
              "       'enc_paym_21', 'enc_paym_22', 'enc_paym_23', 'enc_paym_24',\n",
              "       'enc_loans_account_holder_type', 'enc_loans_credit_status',\n",
              "       'enc_loans_credit_type', 'enc_loans_account_cur', 'pclose_flag',\n",
              "       'fclose_flag'],\n",
              "      dtype='object')"
            ]
          },
          "execution_count": 380,
          "metadata": {},
          "output_type": "execute_result"
        }
      ],
      "source": [
        "data.columns"
      ]
    },
    {
      "cell_type": "code",
      "execution_count": 381,
      "metadata": {
        "colab": {
          "base_uri": "https://localhost:8080/",
          "height": 112
        },
        "id": "MdIZGhagol1v",
        "outputId": "8a41543a-f53d-457d-84dd-e4b6c7f6a049"
      },
      "outputs": [
        {
          "data": {
            "text/html": [
              "<div>\n",
              "<style scoped>\n",
              "    .dataframe tbody tr th:only-of-type {\n",
              "        vertical-align: middle;\n",
              "    }\n",
              "\n",
              "    .dataframe tbody tr th {\n",
              "        vertical-align: top;\n",
              "    }\n",
              "\n",
              "    .dataframe thead th {\n",
              "        text-align: right;\n",
              "    }\n",
              "</style>\n",
              "<table border=\"1\" class=\"dataframe\">\n",
              "  <thead>\n",
              "    <tr style=\"text-align: right;\">\n",
              "      <th></th>\n",
              "      <th>enc_paym_3</th>\n",
              "      <th>enc_loans_account_holder_type</th>\n",
              "      <th>enc_loans_credit_status</th>\n",
              "      <th>enc_loans_account_cur</th>\n",
              "      <th>enc_loans_credit_type</th>\n",
              "    </tr>\n",
              "  </thead>\n",
              "  <tbody>\n",
              "    <tr>\n",
              "      <th>0</th>\n",
              "      <td>3</td>\n",
              "      <td>1</td>\n",
              "      <td>3</td>\n",
              "      <td>1</td>\n",
              "      <td>4</td>\n",
              "    </tr>\n",
              "    <tr>\n",
              "      <th>1</th>\n",
              "      <td>0</td>\n",
              "      <td>1</td>\n",
              "      <td>3</td>\n",
              "      <td>1</td>\n",
              "      <td>4</td>\n",
              "    </tr>\n",
              "  </tbody>\n",
              "</table>\n",
              "</div>"
            ],
            "text/plain": [
              "   enc_paym_3  enc_loans_account_holder_type  enc_loans_credit_status  \\\n",
              "0           3                              1                        3   \n",
              "1           0                              1                        3   \n",
              "\n",
              "   enc_loans_account_cur  enc_loans_credit_type  \n",
              "0                      1                      4  \n",
              "1                      1                      4  "
            ]
          },
          "execution_count": 381,
          "metadata": {},
          "output_type": "execute_result"
        }
      ],
      "source": [
        "data.loc[:1,['enc_paym_3','enc_loans_account_holder_type','enc_loans_credit_status', 'enc_loans_account_cur', 'enc_loans_credit_type']]\n"
      ]
    },
    {
      "cell_type": "markdown",
      "metadata": {
        "id": "CQAIWzpPfFrE"
      },
      "source": [
        "## Предобработка данных"
      ]
    },
    {
      "cell_type": "code",
      "execution_count": 382,
      "metadata": {
        "id": "sEzJ_Xomdd2Z"
      },
      "outputs": [],
      "source": [
        "data.drop(columns=['pre_loans_total_overdue','pre_loans_max_overdue_sum','rn','pre_loans_outstanding','enc_paym_0','enc_paym_1', 'enc_paym_2', 'enc_paym_3', 'enc_paym_4', 'enc_paym_5',\n",
        "       'enc_paym_6', 'enc_paym_7', 'enc_paym_8', 'enc_paym_9', 'enc_paym_10',\n",
        "       'enc_paym_11', 'enc_paym_12', 'enc_paym_13', 'enc_paym_14',\n",
        "       'enc_paym_15', 'enc_paym_16', 'enc_paym_17', 'enc_paym_18',\n",
        "       'enc_paym_19', 'enc_paym_20', 'enc_paym_21', 'enc_paym_22',\n",
        "       'enc_paym_23', 'enc_paym_24','is_zero_loans5', 'is_zero_loans530', 'is_zero_loans3060',\n",
        "       'is_zero_loans6090', 'is_zero_loans90','enc_loans_account_cur'], inplace=True)"
      ]
    },
    {
      "cell_type": "code",
      "execution_count": 383,
      "metadata": {
        "colab": {
          "base_uri": "https://localhost:8080/",
          "height": 899
        },
        "id": "B3ktQWo-dd2a",
        "outputId": "b89d2178-118c-48ef-94cf-9902f7339c20"
      },
      "outputs": [
        {
          "data": {
            "text/plain": [
              "id                               int64\n",
              "pre_since_opened                 int64\n",
              "pre_since_confirmed              int64\n",
              "pre_pterm                        int64\n",
              "pre_fterm                        int64\n",
              "pre_till_pclose                  int64\n",
              "pre_till_fclose                  int64\n",
              "pre_loans_credit_limit           int64\n",
              "pre_loans_next_pay_summ          int64\n",
              "pre_loans_credit_cost_rate       int64\n",
              "pre_loans5                       int64\n",
              "pre_loans530                     int64\n",
              "pre_loans3060                    int64\n",
              "pre_loans6090                    int64\n",
              "pre_loans90                      int64\n",
              "pre_util                         int64\n",
              "pre_over2limit                   int64\n",
              "pre_maxover2limit                int64\n",
              "is_zero_util                     int64\n",
              "is_zero_over2limit               int64\n",
              "is_zero_maxover2limit            int64\n",
              "enc_loans_account_holder_type    int64\n",
              "enc_loans_credit_status          int64\n",
              "enc_loans_credit_type            int64\n",
              "pclose_flag                      int64\n",
              "fclose_flag                      int64\n",
              "dtype: object"
            ]
          },
          "execution_count": 383,
          "metadata": {},
          "output_type": "execute_result"
        }
      ],
      "source": [
        "data.dtypes"
      ]
    },
    {
      "cell_type": "code",
      "execution_count": 384,
      "metadata": {
        "id": "dpR_g01Mdd2c"
      },
      "outputs": [],
      "source": [
        "data_2 = pd.read_csv(path+'/target.csv')"
      ]
    },
    {
      "cell_type": "code",
      "execution_count": 385,
      "metadata": {
        "colab": {
          "base_uri": "https://localhost:8080/",
          "height": 206
        },
        "id": "jUC0qK2Rdd2d",
        "outputId": "6a9027f0-9690-43dc-95d8-625fd6da267d"
      },
      "outputs": [
        {
          "data": {
            "text/html": [
              "<div>\n",
              "<style scoped>\n",
              "    .dataframe tbody tr th:only-of-type {\n",
              "        vertical-align: middle;\n",
              "    }\n",
              "\n",
              "    .dataframe tbody tr th {\n",
              "        vertical-align: top;\n",
              "    }\n",
              "\n",
              "    .dataframe thead th {\n",
              "        text-align: right;\n",
              "    }\n",
              "</style>\n",
              "<table border=\"1\" class=\"dataframe\">\n",
              "  <thead>\n",
              "    <tr style=\"text-align: right;\">\n",
              "      <th></th>\n",
              "      <th>id</th>\n",
              "      <th>flag</th>\n",
              "    </tr>\n",
              "  </thead>\n",
              "  <tbody>\n",
              "    <tr>\n",
              "      <th>0</th>\n",
              "      <td>0</td>\n",
              "      <td>0</td>\n",
              "    </tr>\n",
              "    <tr>\n",
              "      <th>1</th>\n",
              "      <td>1</td>\n",
              "      <td>0</td>\n",
              "    </tr>\n",
              "    <tr>\n",
              "      <th>2</th>\n",
              "      <td>2</td>\n",
              "      <td>0</td>\n",
              "    </tr>\n",
              "    <tr>\n",
              "      <th>3</th>\n",
              "      <td>3</td>\n",
              "      <td>0</td>\n",
              "    </tr>\n",
              "    <tr>\n",
              "      <th>4</th>\n",
              "      <td>4</td>\n",
              "      <td>0</td>\n",
              "    </tr>\n",
              "  </tbody>\n",
              "</table>\n",
              "</div>"
            ],
            "text/plain": [
              "   id  flag\n",
              "0   0     0\n",
              "1   1     0\n",
              "2   2     0\n",
              "3   3     0\n",
              "4   4     0"
            ]
          },
          "execution_count": 385,
          "metadata": {},
          "output_type": "execute_result"
        }
      ],
      "source": [
        "data_2 = data_2.iloc[:250000]\n",
        "data_2.head()"
      ]
    },
    {
      "cell_type": "code",
      "execution_count": 386,
      "metadata": {
        "colab": {
          "base_uri": "https://localhost:8080/"
        },
        "id": "OEh40-mrdd2f",
        "outputId": "fa5e8a7f-a139-4170-aa08-a8a90ac5d852"
      },
      "outputs": [
        {
          "data": {
            "text/plain": [
              "(250000, 2)"
            ]
          },
          "execution_count": 386,
          "metadata": {},
          "output_type": "execute_result"
        }
      ],
      "source": [
        "data_2.shape"
      ]
    },
    {
      "cell_type": "code",
      "execution_count": 387,
      "metadata": {
        "colab": {
          "base_uri": "https://localhost:8080/"
        },
        "id": "vGHjBDE_dd2h",
        "outputId": "7f62eaf2-3564-4b80-e976-fea7de1d75aa"
      },
      "outputs": [
        {
          "data": {
            "text/plain": [
              "(1974724, 27)"
            ]
          },
          "execution_count": 387,
          "metadata": {},
          "output_type": "execute_result"
        }
      ],
      "source": [
        "merged_data = pd.merge(data, data_2 , on = 'id')\n",
        "merged_data.shape"
      ]
    },
    {
      "cell_type": "code",
      "execution_count": 388,
      "metadata": {
        "id": "fsbiUxRVdd2i"
      },
      "outputs": [],
      "source": [
        "merged_data.drop(columns=['id'], inplace=True)"
      ]
    },
    {
      "cell_type": "code",
      "execution_count": 389,
      "metadata": {
        "colab": {
          "base_uri": "https://localhost:8080/",
          "height": 256
        },
        "id": "NLfEqqygdd2l",
        "outputId": "cd086549-27d4-43a5-cd83-f05fd4f5ddc3"
      },
      "outputs": [
        {
          "data": {
            "text/html": [
              "<div>\n",
              "<style scoped>\n",
              "    .dataframe tbody tr th:only-of-type {\n",
              "        vertical-align: middle;\n",
              "    }\n",
              "\n",
              "    .dataframe tbody tr th {\n",
              "        vertical-align: top;\n",
              "    }\n",
              "\n",
              "    .dataframe thead th {\n",
              "        text-align: right;\n",
              "    }\n",
              "</style>\n",
              "<table border=\"1\" class=\"dataframe\">\n",
              "  <thead>\n",
              "    <tr style=\"text-align: right;\">\n",
              "      <th></th>\n",
              "      <th>pre_since_opened</th>\n",
              "      <th>pre_since_confirmed</th>\n",
              "      <th>pre_pterm</th>\n",
              "      <th>pre_fterm</th>\n",
              "      <th>pre_till_pclose</th>\n",
              "      <th>pre_till_fclose</th>\n",
              "      <th>pre_loans_credit_limit</th>\n",
              "      <th>pre_loans_next_pay_summ</th>\n",
              "      <th>pre_loans_credit_cost_rate</th>\n",
              "      <th>pre_loans5</th>\n",
              "      <th>...</th>\n",
              "      <th>pre_maxover2limit</th>\n",
              "      <th>is_zero_util</th>\n",
              "      <th>is_zero_over2limit</th>\n",
              "      <th>is_zero_maxover2limit</th>\n",
              "      <th>enc_loans_account_holder_type</th>\n",
              "      <th>enc_loans_credit_status</th>\n",
              "      <th>enc_loans_credit_type</th>\n",
              "      <th>pclose_flag</th>\n",
              "      <th>fclose_flag</th>\n",
              "      <th>flag</th>\n",
              "    </tr>\n",
              "  </thead>\n",
              "  <tbody>\n",
              "    <tr>\n",
              "      <th>0</th>\n",
              "      <td>18</td>\n",
              "      <td>9</td>\n",
              "      <td>2</td>\n",
              "      <td>3</td>\n",
              "      <td>16</td>\n",
              "      <td>10</td>\n",
              "      <td>11</td>\n",
              "      <td>3</td>\n",
              "      <td>11</td>\n",
              "      <td>6</td>\n",
              "      <td>...</td>\n",
              "      <td>17</td>\n",
              "      <td>1</td>\n",
              "      <td>1</td>\n",
              "      <td>1</td>\n",
              "      <td>1</td>\n",
              "      <td>3</td>\n",
              "      <td>4</td>\n",
              "      <td>0</td>\n",
              "      <td>0</td>\n",
              "      <td>0</td>\n",
              "    </tr>\n",
              "    <tr>\n",
              "      <th>1</th>\n",
              "      <td>18</td>\n",
              "      <td>9</td>\n",
              "      <td>14</td>\n",
              "      <td>14</td>\n",
              "      <td>12</td>\n",
              "      <td>12</td>\n",
              "      <td>0</td>\n",
              "      <td>3</td>\n",
              "      <td>11</td>\n",
              "      <td>6</td>\n",
              "      <td>...</td>\n",
              "      <td>17</td>\n",
              "      <td>1</td>\n",
              "      <td>1</td>\n",
              "      <td>1</td>\n",
              "      <td>1</td>\n",
              "      <td>3</td>\n",
              "      <td>4</td>\n",
              "      <td>0</td>\n",
              "      <td>0</td>\n",
              "      <td>0</td>\n",
              "    </tr>\n",
              "    <tr>\n",
              "      <th>2</th>\n",
              "      <td>18</td>\n",
              "      <td>9</td>\n",
              "      <td>4</td>\n",
              "      <td>8</td>\n",
              "      <td>1</td>\n",
              "      <td>11</td>\n",
              "      <td>11</td>\n",
              "      <td>0</td>\n",
              "      <td>8</td>\n",
              "      <td>6</td>\n",
              "      <td>...</td>\n",
              "      <td>17</td>\n",
              "      <td>0</td>\n",
              "      <td>1</td>\n",
              "      <td>1</td>\n",
              "      <td>1</td>\n",
              "      <td>2</td>\n",
              "      <td>3</td>\n",
              "      <td>1</td>\n",
              "      <td>1</td>\n",
              "      <td>0</td>\n",
              "    </tr>\n",
              "    <tr>\n",
              "      <th>3</th>\n",
              "      <td>4</td>\n",
              "      <td>1</td>\n",
              "      <td>9</td>\n",
              "      <td>12</td>\n",
              "      <td>16</td>\n",
              "      <td>7</td>\n",
              "      <td>12</td>\n",
              "      <td>2</td>\n",
              "      <td>4</td>\n",
              "      <td>6</td>\n",
              "      <td>...</td>\n",
              "      <td>17</td>\n",
              "      <td>1</td>\n",
              "      <td>1</td>\n",
              "      <td>1</td>\n",
              "      <td>1</td>\n",
              "      <td>3</td>\n",
              "      <td>1</td>\n",
              "      <td>0</td>\n",
              "      <td>0</td>\n",
              "      <td>0</td>\n",
              "    </tr>\n",
              "    <tr>\n",
              "      <th>4</th>\n",
              "      <td>5</td>\n",
              "      <td>12</td>\n",
              "      <td>15</td>\n",
              "      <td>2</td>\n",
              "      <td>11</td>\n",
              "      <td>12</td>\n",
              "      <td>10</td>\n",
              "      <td>2</td>\n",
              "      <td>4</td>\n",
              "      <td>6</td>\n",
              "      <td>...</td>\n",
              "      <td>17</td>\n",
              "      <td>1</td>\n",
              "      <td>1</td>\n",
              "      <td>1</td>\n",
              "      <td>1</td>\n",
              "      <td>3</td>\n",
              "      <td>4</td>\n",
              "      <td>0</td>\n",
              "      <td>0</td>\n",
              "      <td>0</td>\n",
              "    </tr>\n",
              "  </tbody>\n",
              "</table>\n",
              "<p>5 rows × 26 columns</p>\n",
              "</div>"
            ],
            "text/plain": [
              "   pre_since_opened  pre_since_confirmed  pre_pterm  pre_fterm  \\\n",
              "0                18                    9          2          3   \n",
              "1                18                    9         14         14   \n",
              "2                18                    9          4          8   \n",
              "3                 4                    1          9         12   \n",
              "4                 5                   12         15          2   \n",
              "\n",
              "   pre_till_pclose  pre_till_fclose  pre_loans_credit_limit  \\\n",
              "0               16               10                      11   \n",
              "1               12               12                       0   \n",
              "2                1               11                      11   \n",
              "3               16                7                      12   \n",
              "4               11               12                      10   \n",
              "\n",
              "   pre_loans_next_pay_summ  pre_loans_credit_cost_rate  pre_loans5  ...  \\\n",
              "0                        3                          11           6  ...   \n",
              "1                        3                          11           6  ...   \n",
              "2                        0                           8           6  ...   \n",
              "3                        2                           4           6  ...   \n",
              "4                        2                           4           6  ...   \n",
              "\n",
              "   pre_maxover2limit  is_zero_util  is_zero_over2limit  is_zero_maxover2limit  \\\n",
              "0                 17             1                   1                      1   \n",
              "1                 17             1                   1                      1   \n",
              "2                 17             0                   1                      1   \n",
              "3                 17             1                   1                      1   \n",
              "4                 17             1                   1                      1   \n",
              "\n",
              "   enc_loans_account_holder_type  enc_loans_credit_status  \\\n",
              "0                              1                        3   \n",
              "1                              1                        3   \n",
              "2                              1                        2   \n",
              "3                              1                        3   \n",
              "4                              1                        3   \n",
              "\n",
              "   enc_loans_credit_type  pclose_flag  fclose_flag  flag  \n",
              "0                      4            0            0     0  \n",
              "1                      4            0            0     0  \n",
              "2                      3            1            1     0  \n",
              "3                      1            0            0     0  \n",
              "4                      4            0            0     0  \n",
              "\n",
              "[5 rows x 26 columns]"
            ]
          },
          "execution_count": 389,
          "metadata": {},
          "output_type": "execute_result"
        }
      ],
      "source": [
        "merged_data.head()"
      ]
    },
    {
      "cell_type": "code",
      "execution_count": 390,
      "metadata": {
        "id": "8yC9Cq7Rdd2m"
      },
      "outputs": [],
      "source": [
        "merged_data['flag'] = merged_data['pre_since_opened'].apply(lambda x: 1 if x > 10 else 0)"
      ]
    },
    {
      "cell_type": "code",
      "execution_count": 391,
      "metadata": {
        "colab": {
          "base_uri": "https://localhost:8080/",
          "height": 899
        },
        "id": "gqTq4eQ_8z_J",
        "outputId": "8a9350f3-c861-46b8-9c3a-156f33d4fa6c"
      },
      "outputs": [
        {
          "data": {
            "text/plain": [
              "pre_since_opened                 0\n",
              "pre_since_confirmed              0\n",
              "pre_pterm                        0\n",
              "pre_fterm                        0\n",
              "pre_till_pclose                  0\n",
              "pre_till_fclose                  0\n",
              "pre_loans_credit_limit           0\n",
              "pre_loans_next_pay_summ          0\n",
              "pre_loans_credit_cost_rate       0\n",
              "pre_loans5                       0\n",
              "pre_loans530                     0\n",
              "pre_loans3060                    0\n",
              "pre_loans6090                    0\n",
              "pre_loans90                      0\n",
              "pre_util                         0\n",
              "pre_over2limit                   0\n",
              "pre_maxover2limit                0\n",
              "is_zero_util                     0\n",
              "is_zero_over2limit               0\n",
              "is_zero_maxover2limit            0\n",
              "enc_loans_account_holder_type    0\n",
              "enc_loans_credit_status          0\n",
              "enc_loans_credit_type            0\n",
              "pclose_flag                      0\n",
              "fclose_flag                      0\n",
              "flag                             0\n",
              "dtype: int64"
            ]
          },
          "execution_count": 391,
          "metadata": {},
          "output_type": "execute_result"
        }
      ],
      "source": [
        "merged_data.isna().sum()"
      ]
    },
    {
      "cell_type": "code",
      "execution_count": 392,
      "metadata": {
        "colab": {
          "base_uri": "https://localhost:8080/"
        },
        "id": "bcQ8duN_dd2m",
        "outputId": "20f565b1-f10a-44aa-9556-4050e037e1bd"
      },
      "outputs": [
        {
          "name": "stdout",
          "output_type": "stream",
          "text": [
            "Количество значений в столбце 'flag':\n",
            "flag\n",
            "0    1154627\n",
            "1     820097\n",
            "Name: count, dtype: int64\n"
          ]
        }
      ],
      "source": [
        "flag_counts = merged_data['flag'].value_counts()\n",
        "print(\"Количество значений в столбце 'flag':\")\n",
        "print(flag_counts)"
      ]
    },
    {
      "cell_type": "code",
      "execution_count": 393,
      "metadata": {
        "id": "l_jcFCdEdd2n"
      },
      "outputs": [],
      "source": [
        "import matplotlib\n",
        "from matplotlib import pyplot as plt\n",
        "import seaborn as sns\n",
        "#matplotlib inline"
      ]
    },
    {
      "cell_type": "code",
      "execution_count": 394,
      "metadata": {
        "id": "PZAHif3idM2b"
      },
      "outputs": [],
      "source": [
        "def corr_matrix(corr):\n",
        "    plt.figure(figsize=(27,27))\n",
        "\n",
        "    sns.heatmap(corr,cmap='YlGnBu', vmax= 1.0, vmin = -1.0)\n",
        "\n",
        "    plt.title('Корреляция признаков')\n",
        "    plt.show()\n",
        "\n",
        "    corr_df = pd.DataFrame(corr)\n",
        "    correlation_matrix = corr_df.corr()\n",
        "\n",
        "    correlation_threshold = 0.7\n",
        "    highly_correlated_columns = []\n",
        "\n",
        "    for column in correlation_matrix:\n",
        "        correlated_columns = correlation_matrix[column][correlation_matrix[column] > correlation_threshold].index.tolist()\n",
        "        highly_correlated_columns.extend([(column, correlated_column, correlation_matrix[column][correlated_column]) for correlated_column in correlated_columns])\n",
        "    # Print the highly correlated column pairs\n",
        "    for pair in highly_correlated_columns:\n",
        "        if not pair[0]==pair[1]:\n",
        "            print(f\"Columns '{pair[0]}' and '{pair[1]}' are highly correlated: {pair[2]:.3f}\")"
      ]
    },
    {
      "cell_type": "code",
      "execution_count": 395,
      "metadata": {
        "colab": {
          "base_uri": "https://localhost:8080/",
          "height": 1000
        },
        "id": "vloqy6KMdd2o",
        "outputId": "9019d255-5a9c-4461-9142-168d56e9475c"
      },
      "outputs": [
        {
          "data": {
            "image/png": "[encoded data removed]",
            "text/plain": [
              "<Figure size 2700x2700 with 2 Axes>"
            ]
          },
          "metadata": {},
          "output_type": "display_data"
        },
        {
          "name": "stdout",
          "output_type": "stream",
          "text": [
            "Columns 'pre_since_opened' and 'flag' are highly correlated: 0.988\n",
            "Columns 'pre_util' and 'is_zero_util' are highly correlated: 0.962\n",
            "Columns 'pre_util' and 'enc_loans_credit_status' are highly correlated: 0.825\n",
            "Columns 'pre_maxover2limit' and 'is_zero_over2limit' are highly correlated: 0.910\n",
            "Columns 'pre_maxover2limit' and 'is_zero_maxover2limit' are highly correlated: 0.968\n",
            "Columns 'is_zero_util' and 'pre_util' are highly correlated: 0.962\n",
            "Columns 'is_zero_util' and 'enc_loans_credit_status' are highly correlated: 0.864\n",
            "Columns 'is_zero_over2limit' and 'pre_maxover2limit' are highly correlated: 0.910\n",
            "Columns 'is_zero_over2limit' and 'is_zero_maxover2limit' are highly correlated: 0.863\n",
            "Columns 'is_zero_maxover2limit' and 'pre_maxover2limit' are highly correlated: 0.968\n",
            "Columns 'is_zero_maxover2limit' and 'is_zero_over2limit' are highly correlated: 0.863\n",
            "Columns 'enc_loans_credit_status' and 'pre_util' are highly correlated: 0.825\n",
            "Columns 'enc_loans_credit_status' and 'is_zero_util' are highly correlated: 0.864\n",
            "Columns 'pclose_flag' and 'fclose_flag' are highly correlated: 0.769\n",
            "Columns 'fclose_flag' and 'pclose_flag' are highly correlated: 0.769\n",
            "Columns 'flag' and 'pre_since_opened' are highly correlated: 0.988\n"
          ]
        }
      ],
      "source": [
        "corr_matrix(merged_data.corr())"
      ]
    },
    {
      "cell_type": "code",
      "execution_count": 396,
      "metadata": {
        "id": "irpmsqzbZjVU"
      },
      "outputs": [],
      "source": [
        "merged_data.drop(columns=['pre_since_opened',\n",
        "                          'enc_loans_credit_status',\n",
        "                          'pre_util',\n",
        "                          'pre_maxover2limit',\n",
        "                          'pclose_flag',\n",
        "                          'is_zero_over2limit',\n",
        "                          'pre_loans5',\n",
        "                          'pre_loans90',\n",
        "                          'pre_loans6090',\n",
        "                          'enc_loans_account_holder_type',\n",
        "                          'pre_loans3060'\n",
        "                          ], inplace=True) # 5 последних найдено при обучении H2O"
      ]
    },
    {
      "cell_type": "code",
      "execution_count": 397,
      "metadata": {
        "colab": {
          "base_uri": "https://localhost:8080/",
          "height": 1000
        },
        "id": "jV8y6WZweEDF",
        "outputId": "64e30d10-3588-432b-aed7-fd483845ee2c"
      },
      "outputs": [
        {
          "data": {
            "image/png": "[encoded data removed]",
            "text/plain": [
              "<Figure size 2700x2700 with 2 Axes>"
            ]
          },
          "metadata": {},
          "output_type": "display_data"
        }
      ],
      "source": [
        "corr_matrix(merged_data.corr())"
      ]
    },
    {
      "cell_type": "code",
      "execution_count": 398,
      "metadata": {
        "colab": {
          "base_uri": "https://localhost:8080/",
          "height": 226
        },
        "id": "WZeguwnNrOyX",
        "outputId": "6379d576-e322-4f69-f7d2-06c62de89f4d"
      },
      "outputs": [
        {
          "data": {
            "text/html": [
              "<div>\n",
              "<style scoped>\n",
              "    .dataframe tbody tr th:only-of-type {\n",
              "        vertical-align: middle;\n",
              "    }\n",
              "\n",
              "    .dataframe tbody tr th {\n",
              "        vertical-align: top;\n",
              "    }\n",
              "\n",
              "    .dataframe thead th {\n",
              "        text-align: right;\n",
              "    }\n",
              "</style>\n",
              "<table border=\"1\" class=\"dataframe\">\n",
              "  <thead>\n",
              "    <tr style=\"text-align: right;\">\n",
              "      <th></th>\n",
              "      <th>pre_since_confirmed</th>\n",
              "      <th>pre_pterm</th>\n",
              "      <th>pre_fterm</th>\n",
              "      <th>pre_till_pclose</th>\n",
              "      <th>pre_till_fclose</th>\n",
              "      <th>pre_loans_credit_limit</th>\n",
              "      <th>pre_loans_next_pay_summ</th>\n",
              "      <th>pre_loans_credit_cost_rate</th>\n",
              "      <th>pre_loans530</th>\n",
              "      <th>pre_over2limit</th>\n",
              "      <th>is_zero_util</th>\n",
              "      <th>is_zero_maxover2limit</th>\n",
              "      <th>enc_loans_credit_type</th>\n",
              "      <th>fclose_flag</th>\n",
              "      <th>flag</th>\n",
              "    </tr>\n",
              "  </thead>\n",
              "  <tbody>\n",
              "    <tr>\n",
              "      <th>0</th>\n",
              "      <td>9</td>\n",
              "      <td>2</td>\n",
              "      <td>3</td>\n",
              "      <td>16</td>\n",
              "      <td>10</td>\n",
              "      <td>11</td>\n",
              "      <td>3</td>\n",
              "      <td>11</td>\n",
              "      <td>16</td>\n",
              "      <td>2</td>\n",
              "      <td>1</td>\n",
              "      <td>1</td>\n",
              "      <td>4</td>\n",
              "      <td>0</td>\n",
              "      <td>1</td>\n",
              "    </tr>\n",
              "    <tr>\n",
              "      <th>1</th>\n",
              "      <td>9</td>\n",
              "      <td>14</td>\n",
              "      <td>14</td>\n",
              "      <td>12</td>\n",
              "      <td>12</td>\n",
              "      <td>0</td>\n",
              "      <td>3</td>\n",
              "      <td>11</td>\n",
              "      <td>16</td>\n",
              "      <td>2</td>\n",
              "      <td>1</td>\n",
              "      <td>1</td>\n",
              "      <td>4</td>\n",
              "      <td>0</td>\n",
              "      <td>1</td>\n",
              "    </tr>\n",
              "    <tr>\n",
              "      <th>2</th>\n",
              "      <td>9</td>\n",
              "      <td>4</td>\n",
              "      <td>8</td>\n",
              "      <td>1</td>\n",
              "      <td>11</td>\n",
              "      <td>11</td>\n",
              "      <td>0</td>\n",
              "      <td>8</td>\n",
              "      <td>16</td>\n",
              "      <td>2</td>\n",
              "      <td>0</td>\n",
              "      <td>1</td>\n",
              "      <td>3</td>\n",
              "      <td>1</td>\n",
              "      <td>1</td>\n",
              "    </tr>\n",
              "    <tr>\n",
              "      <th>3</th>\n",
              "      <td>1</td>\n",
              "      <td>9</td>\n",
              "      <td>12</td>\n",
              "      <td>16</td>\n",
              "      <td>7</td>\n",
              "      <td>12</td>\n",
              "      <td>2</td>\n",
              "      <td>4</td>\n",
              "      <td>16</td>\n",
              "      <td>2</td>\n",
              "      <td>1</td>\n",
              "      <td>1</td>\n",
              "      <td>1</td>\n",
              "      <td>0</td>\n",
              "      <td>0</td>\n",
              "    </tr>\n",
              "    <tr>\n",
              "      <th>4</th>\n",
              "      <td>12</td>\n",
              "      <td>15</td>\n",
              "      <td>2</td>\n",
              "      <td>11</td>\n",
              "      <td>12</td>\n",
              "      <td>10</td>\n",
              "      <td>2</td>\n",
              "      <td>4</td>\n",
              "      <td>16</td>\n",
              "      <td>2</td>\n",
              "      <td>1</td>\n",
              "      <td>1</td>\n",
              "      <td>4</td>\n",
              "      <td>0</td>\n",
              "      <td>0</td>\n",
              "    </tr>\n",
              "  </tbody>\n",
              "</table>\n",
              "</div>"
            ],
            "text/plain": [
              "   pre_since_confirmed  pre_pterm  pre_fterm  pre_till_pclose  \\\n",
              "0                    9          2          3               16   \n",
              "1                    9         14         14               12   \n",
              "2                    9          4          8                1   \n",
              "3                    1          9         12               16   \n",
              "4                   12         15          2               11   \n",
              "\n",
              "   pre_till_fclose  pre_loans_credit_limit  pre_loans_next_pay_summ  \\\n",
              "0               10                      11                        3   \n",
              "1               12                       0                        3   \n",
              "2               11                      11                        0   \n",
              "3                7                      12                        2   \n",
              "4               12                      10                        2   \n",
              "\n",
              "   pre_loans_credit_cost_rate  pre_loans530  pre_over2limit  is_zero_util  \\\n",
              "0                          11            16               2             1   \n",
              "1                          11            16               2             1   \n",
              "2                           8            16               2             0   \n",
              "3                           4            16               2             1   \n",
              "4                           4            16               2             1   \n",
              "\n",
              "   is_zero_maxover2limit  enc_loans_credit_type  fclose_flag  flag  \n",
              "0                      1                      4            0     1  \n",
              "1                      1                      4            0     1  \n",
              "2                      1                      3            1     1  \n",
              "3                      1                      1            0     0  \n",
              "4                      1                      4            0     0  "
            ]
          },
          "execution_count": 398,
          "metadata": {},
          "output_type": "execute_result"
        }
      ],
      "source": [
        "merged_data.head()"
      ]
    },
    {
      "cell_type": "code",
      "execution_count": 399,
      "metadata": {
        "id": "i8_Okpg5dAqF"
      },
      "outputs": [],
      "source": [
        "#уменьшение выборки для демонстрации работы TPOT и H2O\n",
        "test_data = merged_data[10000:10250]\n",
        "train_data = merged_data[:5000]"
      ]
    },
    {
      "cell_type": "code",
      "execution_count": 400,
      "metadata": {
        "id": "f2HjbrXnoEra"
      },
      "outputs": [],
      "source": [
        "def x_y_split(df):\n",
        "    X = df.drop('flag', axis=1)\n",
        "    y = df['flag']\n",
        "    return X, y"
      ]
    },
    {
      "cell_type": "code",
      "execution_count": 401,
      "metadata": {
        "id": "Z0fwoOybdd2o"
      },
      "outputs": [],
      "source": [
        "X, y = x_y_split(train_data)"
      ]
    },
    {
      "cell_type": "code",
      "execution_count": 402,
      "metadata": {
        "id": "-kaVPh3Uet2B"
      },
      "outputs": [],
      "source": [
        "X_test, y_test = x_y_split(test_data)"
      ]
    },
    {
      "cell_type": "code",
      "execution_count": 403,
      "metadata": {
        "id": "3H2aKe3zATUN"
      },
      "outputs": [],
      "source": [
        "def data_scaling(X):\n",
        "    from sklearn.preprocessing import MinMaxScaler\n",
        "    sc = MinMaxScaler(feature_range=(0,1))\n",
        "    X = sc.fit_transform(X)\n",
        "    return X"
      ]
    },
    {
      "cell_type": "code",
      "execution_count": 404,
      "metadata": {
        "id": "7nOrg4_Fn9RT"
      },
      "outputs": [],
      "source": [
        "X = data_scaling(X)"
      ]
    },
    {
      "cell_type": "code",
      "execution_count": 405,
      "metadata": {
        "colab": {
          "base_uri": "https://localhost:8080/"
        },
        "id": "lScCA6tVB6Vy",
        "outputId": "210dcf94-eaa4-4a43-c3bb-8b09767db23d"
      },
      "outputs": [
        {
          "data": {
            "text/plain": [
              "array([[0.52941176, 0.11764706, 0.1875    , ..., 1.        , 0.8       ,\n",
              "        0.        ],\n",
              "       [0.52941176, 0.82352941, 0.875     , ..., 1.        , 0.8       ,\n",
              "        0.        ],\n",
              "       [0.52941176, 0.23529412, 0.5       , ..., 1.        , 0.6       ,\n",
              "        1.        ],\n",
              "       ...,\n",
              "       [0.47058824, 0.23529412, 0.5       , ..., 0.        , 0.6       ,\n",
              "        1.        ],\n",
              "       [0.76470588, 0.64705882, 0.8125    , ..., 1.        , 0.8       ,\n",
              "        0.        ],\n",
              "       [0.82352941, 0.41176471, 0.125     , ..., 1.        , 0.8       ,\n",
              "        0.        ]])"
            ]
          },
          "execution_count": 405,
          "metadata": {},
          "output_type": "execute_result"
        }
      ],
      "source": [
        "X"
      ]
    },
    {
      "cell_type": "code",
      "execution_count": 406,
      "metadata": {
        "id": "--NkF6VThm4w"
      },
      "outputs": [],
      "source": [
        "X_train, X_val, y_train, y_val = train_test_split(X, y, test_size=0.3, random_state=42)"
      ]
    },
    {
      "cell_type": "markdown",
      "metadata": {
        "id": "7JshVUwygsv9"
      },
      "source": [
        "## Обучение TPOT"
      ]
    },
    {
      "cell_type": "markdown",
      "metadata": {
        "id": "xY8gO9rUq5ZL"
      },
      "source": [
        "### Функции метрик"
      ]
    },
    {
      "cell_type": "code",
      "execution_count": 407,
      "metadata": {
        "id": "qM2H9GsCq2dy"
      },
      "outputs": [],
      "source": [
        "def tpot_prediction(test_data):\n",
        "    y_pred = tpot.predict(test_data)\n",
        "    y_proba = tpot.predict_proba(test_data)[:, 1]\n",
        "    return y_pred, y_proba"
      ]
    },
    {
      "cell_type": "code",
      "execution_count": 408,
      "metadata": {
        "id": "pcvbtaFkq2d0"
      },
      "outputs": [],
      "source": [
        "def metrics(y_test, y_pred, y_proba):\n",
        "    # Вычисление метрик\n",
        "    print(f\"RMSE: {np.sqrt(mean_squared_error(y_test, y_pred)):.4f}\")\n",
        "    print(f\"MAE: {mean_absolute_error(y_test, y_pred):.4f}\")\n",
        "    print(f\"R2: {r2_score(y_test, y_pred):.2f}\")\n",
        "    print(f\"Accuracy: {accuracy_score(y_test, y_pred):.4f}\")\n",
        "    print(f\"Precision: {precision_score(y_test, y_pred):.4f}\")\n",
        "    print(f\"Recall: {recall_score(y_test, y_pred):.4f}\")\n",
        "    print(f\"F1-Score: {f1_score(y_test, y_pred):.4f}\")\n",
        "    print(f\"ROC_AUC: {roc_auc_score(y_test, y_proba):.4f}\")\n",
        "    print()\n",
        "    # Матрица ошибок\n",
        "    print(\"Confusion Matrix:\\n\", confusion_matrix(y_test, y_pred))\n",
        "    # Полный отчет\n",
        "    print(\"\\nClassification Report:\\n\", classification_report(y_test, y_pred))"
      ]
    },
    {
      "cell_type": "markdown",
      "metadata": {
        "id": "4Y5DG_XQs1SN"
      },
      "source": [
        "### Процесс обучения"
      ]
    },
    {
      "cell_type": "code",
      "execution_count": 409,
      "metadata": {
        "colab": {
          "base_uri": "https://localhost:8080/"
        },
        "id": "iTME3aH15HBT",
        "outputId": "6012a19a-14fc-47ba-f0eb-9c2727a7519b"
      },
      "outputs": [
        {
          "name": "stdout",
          "output_type": "stream",
          "text": [
            "Requirement already satisfied: tpot in c:\\users\\antmur00\\desktop\\magister22\\loanstatus\\.venv\\lib\\site-packages (1.0.0)\n",
            "Requirement already satisfied: update-checker>=0.16 in c:\\users\\antmur00\\desktop\\magister22\\loanstatus\\.venv\\lib\\site-packages (from tpot) (0.18.0)\n",
            "Requirement already satisfied: numpy==1.26.4 in c:\\users\\antmur00\\desktop\\magister22\\loanstatus\\.venv\\lib\\site-packages (from tpot) (1.26.4)\n",
            "Requirement already satisfied: seaborn>=0.13.2 in c:\\users\\antmur00\\desktop\\magister22\\loanstatus\\.venv\\lib\\site-packages (from tpot) (0.13.2)\n",
            "Requirement already satisfied: dask>=2024.4.2 in c:\\users\\antmur00\\desktop\\magister22\\loanstatus\\.venv\\lib\\site-packages (from tpot) (2025.3.0)\n",
            "Requirement already satisfied: distributed>=2024.4.2 in c:\\users\\antmur00\\desktop\\magister22\\loanstatus\\.venv\\lib\\site-packages (from tpot) (2025.3.0)\n",
            "Requirement already satisfied: networkx>=3.0 in c:\\users\\antmur00\\desktop\\magister22\\loanstatus\\.venv\\lib\\site-packages (from tpot) (3.4.2)\n",
            "Requirement already satisfied: xgboost>=1.7.0 in c:\\users\\antmur00\\desktop\\magister22\\loanstatus\\.venv\\lib\\site-packages (from tpot) (3.0.0)\n",
            "Requirement already satisfied: joblib>=1.1.1 in c:\\users\\antmur00\\desktop\\magister22\\loanstatus\\.venv\\lib\\site-packages (from tpot) (1.4.2)\n",
            "Requirement already satisfied: traitlets>=5.8.0 in c:\\users\\antmur00\\desktop\\magister22\\loanstatus\\.venv\\lib\\site-packages (from tpot) (5.14.3)\n",
            "Requirement already satisfied: dill>=0.3.9 in c:\\users\\antmur00\\desktop\\magister22\\loanstatus\\.venv\\lib\\site-packages (from tpot) (0.3.9)\n",
            "Requirement already satisfied: tqdm>=4.36.1 in c:\\users\\antmur00\\desktop\\magister22\\loanstatus\\.venv\\lib\\site-packages (from tpot) (4.67.1)\n",
            "Requirement already satisfied: optuna>=3.0.5 in c:\\users\\antmur00\\desktop\\magister22\\loanstatus\\.venv\\lib\\site-packages (from tpot) (4.2.1)\n",
            "Requirement already satisfied: scikit-learn<1.6,>=1.4.2 in c:\\users\\antmur00\\desktop\\magister22\\loanstatus\\.venv\\lib\\site-packages (from tpot) (1.5.2)\n",
            "Requirement already satisfied: dask-jobqueue>=0.8.5 in c:\\users\\antmur00\\desktop\\magister22\\loanstatus\\.venv\\lib\\site-packages (from tpot) (0.9.0)\n",
            "Requirement already satisfied: scipy>=1.3.1 in c:\\users\\antmur00\\desktop\\magister22\\loanstatus\\.venv\\lib\\site-packages (from tpot) (1.15.2)\n",
            "Requirement already satisfied: configspace>=1.1.1 in c:\\users\\antmur00\\desktop\\magister22\\loanstatus\\.venv\\lib\\site-packages (from tpot) (1.2.1)\n",
            "Requirement already satisfied: stopit>=1.1.1 in c:\\users\\antmur00\\desktop\\magister22\\loanstatus\\.venv\\lib\\site-packages (from tpot) (1.1.2)\n",
            "Requirement already satisfied: pandas>=2.2.0 in c:\\users\\antmur00\\desktop\\magister22\\loanstatus\\.venv\\lib\\site-packages (from tpot) (2.2.3)\n",
            "Requirement already satisfied: matplotlib>=3.6.2 in c:\\users\\antmur00\\desktop\\magister22\\loanstatus\\.venv\\lib\\site-packages (from tpot) (3.10.1)\n",
            "Requirement already satisfied: func-timeout>=4.3.5 in c:\\users\\antmur00\\desktop\\magister22\\loanstatus\\.venv\\lib\\site-packages (from tpot) (4.3.5)\n",
            "Requirement already satisfied: lightgbm>=3.3.3 in c:\\users\\antmur00\\desktop\\magister22\\loanstatus\\.venv\\lib\\site-packages (from tpot) (4.6.0)\n",
            "Requirement already satisfied: dask-expr>=1.0.12 in c:\\users\\antmur00\\desktop\\magister22\\loanstatus\\.venv\\lib\\site-packages (from tpot) (2.0.0)\n",
            "Requirement already satisfied: more_itertools in c:\\users\\antmur00\\desktop\\magister22\\loanstatus\\.venv\\lib\\site-packages (from configspace>=1.1.1->tpot) (10.6.0)\n",
            "Requirement already satisfied: pyparsing in c:\\users\\antmur00\\desktop\\magister22\\loanstatus\\.venv\\lib\\site-packages (from configspace>=1.1.1->tpot) (3.2.3)\n",
            "Requirement already satisfied: typing_extensions in c:\\users\\antmur00\\desktop\\magister22\\loanstatus\\.venv\\lib\\site-packages (from configspace>=1.1.1->tpot) (4.13.0)\n",
            "Requirement already satisfied: importlib_metadata>=4.13.0 in c:\\users\\antmur00\\desktop\\magister22\\loanstatus\\.venv\\lib\\site-packages (from dask>=2024.4.2->tpot) (8.6.1)\n",
            "Requirement already satisfied: packaging>=20.0 in c:\\users\\antmur00\\desktop\\magister22\\loanstatus\\.venv\\lib\\site-packages (from dask>=2024.4.2->tpot) (24.2)\n",
            "Requirement already satisfied: click>=8.1 in c:\\users\\antmur00\\desktop\\magister22\\loanstatus\\.venv\\lib\\site-packages (from dask>=2024.4.2->tpot) (8.1.8)\n",
            "Requirement already satisfied: partd>=1.4.0 in c:\\users\\antmur00\\desktop\\magister22\\loanstatus\\.venv\\lib\\site-packages (from dask>=2024.4.2->tpot) (1.4.2)\n",
            "Requirement already satisfied: cloudpickle>=3.0.0 in c:\\users\\antmur00\\desktop\\magister22\\loanstatus\\.venv\\lib\\site-packages (from dask>=2024.4.2->tpot) (3.1.1)\n",
            "Requirement already satisfied: toolz>=0.10.0 in c:\\users\\antmur00\\desktop\\magister22\\loanstatus\\.venv\\lib\\site-packages (from dask>=2024.4.2->tpot) (1.0.0)\n",
            "Requirement already satisfied: pyyaml>=5.3.1 in c:\\users\\antmur00\\desktop\\magister22\\loanstatus\\.venv\\lib\\site-packages (from dask>=2024.4.2->tpot) (6.0.2)\n",
            "Requirement already satisfied: fsspec>=2021.09.0 in c:\\users\\antmur00\\desktop\\magister22\\loanstatus\\.venv\\lib\\site-packages (from dask>=2024.4.2->tpot) (2025.3.0)\n",
            "Requirement already satisfied: jinja2>=2.10.3 in c:\\users\\antmur00\\desktop\\magister22\\loanstatus\\.venv\\lib\\site-packages (from distributed>=2024.4.2->tpot) (3.1.6)\n",
            "Requirement already satisfied: urllib3>=1.26.5 in c:\\users\\antmur00\\desktop\\magister22\\loanstatus\\.venv\\lib\\site-packages (from distributed>=2024.4.2->tpot) (2.3.0)\n",
            "Requirement already satisfied: msgpack>=1.0.2 in c:\\users\\antmur00\\desktop\\magister22\\loanstatus\\.venv\\lib\\site-packages (from distributed>=2024.4.2->tpot) (1.1.0)\n",
            "Requirement already satisfied: tornado>=6.2.0 in c:\\users\\antmur00\\desktop\\magister22\\loanstatus\\.venv\\lib\\site-packages (from distributed>=2024.4.2->tpot) (6.4.2)\n",
            "Requirement already satisfied: tblib>=1.6.0 in c:\\users\\antmur00\\desktop\\magister22\\loanstatus\\.venv\\lib\\site-packages (from distributed>=2024.4.2->tpot) (3.0.0)\n",
            "Requirement already satisfied: locket>=1.0.0 in c:\\users\\antmur00\\desktop\\magister22\\loanstatus\\.venv\\lib\\site-packages (from distributed>=2024.4.2->tpot) (1.0.0)\n",
            "Requirement already satisfied: psutil>=5.8.0 in c:\\users\\antmur00\\desktop\\magister22\\loanstatus\\.venv\\lib\\site-packages (from distributed>=2024.4.2->tpot) (7.0.0)\n",
            "Requirement already satisfied: sortedcontainers>=2.0.5 in c:\\users\\antmur00\\desktop\\magister22\\loanstatus\\.venv\\lib\\site-packages (from distributed>=2024.4.2->tpot) (2.4.0)\n",
            "Requirement already satisfied: zict>=3.0.0 in c:\\users\\antmur00\\desktop\\magister22\\loanstatus\\.venv\\lib\\site-packages (from distributed>=2024.4.2->tpot) (3.0.0)\n",
            "Requirement already satisfied: kiwisolver>=1.3.1 in c:\\users\\antmur00\\desktop\\magister22\\loanstatus\\.venv\\lib\\site-packages (from matplotlib>=3.6.2->tpot) (1.4.8)\n",
            "Requirement already satisfied: contourpy>=1.0.1 in c:\\users\\antmur00\\desktop\\magister22\\loanstatus\\.venv\\lib\\site-packages (from matplotlib>=3.6.2->tpot) (1.3.1)\n",
            "Requirement already satisfied: python-dateutil>=2.7 in c:\\users\\antmur00\\desktop\\magister22\\loanstatus\\.venv\\lib\\site-packages (from matplotlib>=3.6.2->tpot) (2.9.0.post0)\n",
            "Requirement already satisfied: cycler>=0.10 in c:\\users\\antmur00\\desktop\\magister22\\loanstatus\\.venv\\lib\\site-packages (from matplotlib>=3.6.2->tpot) (0.12.1)\n",
            "Requirement already satisfied: pillow>=8 in c:\\users\\antmur00\\desktop\\magister22\\loanstatus\\.venv\\lib\\site-packages (from matplotlib>=3.6.2->tpot) (11.1.0)\n",
            "Requirement already satisfied: fonttools>=4.22.0 in c:\\users\\antmur00\\desktop\\magister22\\loanstatus\\.venv\\lib\\site-packages (from matplotlib>=3.6.2->tpot) (4.56.0)\n",
            "Requirement already satisfied: alembic>=1.5.0 in c:\\users\\antmur00\\desktop\\magister22\\loanstatus\\.venv\\lib\\site-packages (from optuna>=3.0.5->tpot) (1.15.2)\n",
            "Requirement already satisfied: sqlalchemy>=1.4.2 in c:\\users\\antmur00\\desktop\\magister22\\loanstatus\\.venv\\lib\\site-packages (from optuna>=3.0.5->tpot) (2.0.40)\n",
            "Requirement already satisfied: colorlog in c:\\users\\antmur00\\desktop\\magister22\\loanstatus\\.venv\\lib\\site-packages (from optuna>=3.0.5->tpot) (6.9.0)\n",
            "Requirement already satisfied: tzdata>=2022.7 in c:\\users\\antmur00\\desktop\\magister22\\loanstatus\\.venv\\lib\\site-packages (from pandas>=2.2.0->tpot) (2025.2)\n",
            "Requirement already satisfied: pytz>=2020.1 in c:\\users\\antmur00\\desktop\\magister22\\loanstatus\\.venv\\lib\\site-packages (from pandas>=2.2.0->tpot) (2025.2)\n",
            "Requirement already satisfied: threadpoolctl>=3.1.0 in c:\\users\\antmur00\\desktop\\magister22\\loanstatus\\.venv\\lib\\site-packages (from scikit-learn<1.6,>=1.4.2->tpot) (3.6.0)\n",
            "Requirement already satisfied: colorama in c:\\users\\antmur00\\desktop\\magister22\\loanstatus\\.venv\\lib\\site-packages (from tqdm>=4.36.1->tpot) (0.4.6)\n",
            "Requirement already satisfied: requests>=2.3.0 in c:\\users\\antmur00\\desktop\\magister22\\loanstatus\\.venv\\lib\\site-packages (from update-checker>=0.16->tpot) (2.32.3)\n",
            "Requirement already satisfied: Mako in c:\\users\\antmur00\\desktop\\magister22\\loanstatus\\.venv\\lib\\site-packages (from alembic>=1.5.0->optuna>=3.0.5->tpot) (1.3.9)\n",
            "Requirement already satisfied: zipp>=3.20 in c:\\users\\antmur00\\desktop\\magister22\\loanstatus\\.venv\\lib\\site-packages (from importlib_metadata>=4.13.0->dask>=2024.4.2->tpot) (3.21.0)\n",
            "Requirement already satisfied: MarkupSafe>=2.0 in c:\\users\\antmur00\\desktop\\magister22\\loanstatus\\.venv\\lib\\site-packages (from jinja2>=2.10.3->distributed>=2024.4.2->tpot) (3.0.2)\n",
            "Requirement already satisfied: six>=1.5 in c:\\users\\antmur00\\desktop\\magister22\\loanstatus\\.venv\\lib\\site-packages (from python-dateutil>=2.7->matplotlib>=3.6.2->tpot) (1.17.0)\n",
            "Requirement already satisfied: certifi>=2017.4.17 in c:\\users\\antmur00\\desktop\\magister22\\loanstatus\\.venv\\lib\\site-packages (from requests>=2.3.0->update-checker>=0.16->tpot) (2025.1.31)\n",
            "Requirement already satisfied: charset-normalizer<4,>=2 in c:\\users\\antmur00\\desktop\\magister22\\loanstatus\\.venv\\lib\\site-packages (from requests>=2.3.0->update-checker>=0.16->tpot) (3.4.1)\n",
            "Requirement already satisfied: idna<4,>=2.5 in c:\\users\\antmur00\\desktop\\magister22\\loanstatus\\.venv\\lib\\site-packages (from requests>=2.3.0->update-checker>=0.16->tpot) (3.10)\n",
            "Requirement already satisfied: greenlet>=1 in c:\\users\\antmur00\\desktop\\magister22\\loanstatus\\.venv\\lib\\site-packages (from sqlalchemy>=1.4.2->optuna>=3.0.5->tpot) (3.1.1)\n",
            "Note: you may need to restart the kernel to use updated packages.\n"
          ]
        },
        {
          "name": "stderr",
          "output_type": "stream",
          "text": [
            "\n",
            "[notice] A new release of pip available: 22.3.1 -> 25.0.1\n",
            "[notice] To update, run: python.exe -m pip install --upgrade pip\n"
          ]
        }
      ],
      "source": [
        "%pip install tpot"
      ]
    },
    {
      "cell_type": "code",
      "execution_count": 410,
      "metadata": {
        "colab": {
          "base_uri": "https://localhost:8080/",
          "height": 477
        },
        "id": "m7scRje48okT",
        "outputId": "a0006bc1-4e88-463c-9f9c-5d4c154ed3e8"
      },
      "outputs": [],
      "source": [
        "from sklearn import utils\n",
        "from tpot import TPOTClassifier"
      ]
    },
    {
      "cell_type": "code",
      "execution_count": 411,
      "metadata": {
        "id": "YkP9Jjbbdd2p"
      },
      "outputs": [],
      "source": [
        "tpot = TPOTClassifier(\n",
        "    generations=5,\n",
        "    population_size=50,\n",
        "    random_state=42,\n",
        "    cv=5,\n",
        "    #n_jobs=1,\n",
        "    scorers='roc_auc',\n",
        ")"
      ]
    },
    {
      "cell_type": "code",
      "execution_count": 412,
      "metadata": {
        "id": "A5yQI8WOdd2p"
      },
      "outputs": [
        {
          "name": "stderr",
          "output_type": "stream",
          "text": [
            "Generation:   0%|          | 0/5 [1:10:06<?, ?it/s]\n",
            "Generation: 100%|██████████| 5/5 [13:01<00:00, 156.34s/it]\n"
          ]
        },
        {
          "data": {
            "text/html": [
              "<style>#sk-container-id-2 {\n",
              "  /* Definition of color scheme common for light and dark mode */\n",
              "  --sklearn-color-text: black;\n",
              "  --sklearn-color-line: gray;\n",
              "  /* Definition of color scheme for unfitted estimators */\n",
              "  --sklearn-color-unfitted-level-0: #fff5e6;\n",
              "  --sklearn-color-unfitted-level-1: #f6e4d2;\n",
              "  --sklearn-color-unfitted-level-2: #ffe0b3;\n",
              "  --sklearn-color-unfitted-level-3: chocolate;\n",
              "  /* Definition of color scheme for fitted estimators */\n",
              "  --sklearn-color-fitted-level-0: #f0f8ff;\n",
              "  --sklearn-color-fitted-level-1: #d4ebff;\n",
              "  --sklearn-color-fitted-level-2: #b3dbfd;\n",
              "  --sklearn-color-fitted-level-3: cornflowerblue;\n",
              "\n",
              "  /* Specific color for light theme */\n",
              "  --sklearn-color-text-on-default-background: var(--sg-text-color, var(--theme-code-foreground, var(--jp-content-font-color1, black)));\n",
              "  --sklearn-color-background: var(--sg-background-color, var(--theme-background, var(--jp-layout-color0, white)));\n",
              "  --sklearn-color-border-box: var(--sg-text-color, var(--theme-code-foreground, var(--jp-content-font-color1, black)));\n",
              "  --sklearn-color-icon: #696969;\n",
              "\n",
              "  @media (prefers-color-scheme: dark) {\n",
              "    /* Redefinition of color scheme for dark theme */\n",
              "    --sklearn-color-text-on-default-background: var(--sg-text-color, var(--theme-code-foreground, var(--jp-content-font-color1, white)));\n",
              "    --sklearn-color-background: var(--sg-background-color, var(--theme-background, var(--jp-layout-color0, #111)));\n",
              "    --sklearn-color-border-box: var(--sg-text-color, var(--theme-code-foreground, var(--jp-content-font-color1, white)));\n",
              "    --sklearn-color-icon: #878787;\n",
              "  }\n",
              "}\n",
              "\n",
              "#sk-container-id-2 {\n",
              "  color: var(--sklearn-color-text);\n",
              "}\n",
              "\n",
              "#sk-container-id-2 pre {\n",
              "  padding: 0;\n",
              "}\n",
              "\n",
              "#sk-container-id-2 input.sk-hidden--visually {\n",
              "  border: 0;\n",
              "  clip: rect(1px 1px 1px 1px);\n",
              "  clip: rect(1px, 1px, 1px, 1px);\n",
              "  height: 1px;\n",
              "  margin: -1px;\n",
              "  overflow: hidden;\n",
              "  padding: 0;\n",
              "  position: absolute;\n",
              "  width: 1px;\n",
              "}\n",
              "\n",
              "#sk-container-id-2 div.sk-dashed-wrapped {\n",
              "  border: 1px dashed var(--sklearn-color-line);\n",
              "  margin: 0 0.4em 0.5em 0.4em;\n",
              "  box-sizing: border-box;\n",
              "  padding-bottom: 0.4em;\n",
              "  background-color: var(--sklearn-color-background);\n",
              "}\n",
              "\n",
              "#sk-container-id-2 div.sk-container {\n",
              "  /* jupyter's `normalize.less` sets `[hidden] { display: none; }`\n",
              "     but bootstrap.min.css set `[hidden] { display: none !important; }`\n",
              "     so we also need the `!important` here to be able to override the\n",
              "     default hidden behavior on the sphinx rendered scikit-learn.org.\n",
              "     See: https://github.com/scikit-learn/scikit-learn/issues/21755 */\n",
              "  display: inline-block !important;\n",
              "  position: relative;\n",
              "}\n",
              "\n",
              "#sk-container-id-2 div.sk-text-repr-fallback {\n",
              "  display: none;\n",
              "}\n",
              "\n",
              "div.sk-parallel-item,\n",
              "div.sk-serial,\n",
              "div.sk-item {\n",
              "  /* draw centered vertical line to link estimators */\n",
              "  background-image: linear-gradient(var(--sklearn-color-text-on-default-background), var(--sklearn-color-text-on-default-background));\n",
              "  background-size: 2px 100%;\n",
              "  background-repeat: no-repeat;\n",
              "  background-position: center center;\n",
              "}\n",
              "\n",
              "/* Parallel-specific style estimator block */\n",
              "\n",
              "#sk-container-id-2 div.sk-parallel-item::after {\n",
              "  content: \"\";\n",
              "  width: 100%;\n",
              "  border-bottom: 2px solid var(--sklearn-color-text-on-default-background);\n",
              "  flex-grow: 1;\n",
              "}\n",
              "\n",
              "#sk-container-id-2 div.sk-parallel {\n",
              "  display: flex;\n",
              "  align-items: stretch;\n",
              "  justify-content: center;\n",
              "  background-color: var(--sklearn-color-background);\n",
              "  position: relative;\n",
              "}\n",
              "\n",
              "#sk-container-id-2 div.sk-parallel-item {\n",
              "  display: flex;\n",
              "  flex-direction: column;\n",
              "}\n",
              "\n",
              "#sk-container-id-2 div.sk-parallel-item:first-child::after {\n",
              "  align-self: flex-end;\n",
              "  width: 50%;\n",
              "}\n",
              "\n",
              "#sk-container-id-2 div.sk-parallel-item:last-child::after {\n",
              "  align-self: flex-start;\n",
              "  width: 50%;\n",
              "}\n",
              "\n",
              "#sk-container-id-2 div.sk-parallel-item:only-child::after {\n",
              "  width: 0;\n",
              "}\n",
              "\n",
              "/* Serial-specific style estimator block */\n",
              "\n",
              "#sk-container-id-2 div.sk-serial {\n",
              "  display: flex;\n",
              "  flex-direction: column;\n",
              "  align-items: center;\n",
              "  background-color: var(--sklearn-color-background);\n",
              "  padding-right: 1em;\n",
              "  padding-left: 1em;\n",
              "}\n",
              "\n",
              "\n",
              "/* Toggleable style: style used for estimator/Pipeline/ColumnTransformer box that is\n",
              "clickable and can be expanded/collapsed.\n",
              "- Pipeline and ColumnTransformer use this feature and define the default style\n",
              "- Estimators will overwrite some part of the style using the `sk-estimator` class\n",
              "*/\n",
              "\n",
              "/* Pipeline and ColumnTransformer style (default) */\n",
              "\n",
              "#sk-container-id-2 div.sk-toggleable {\n",
              "  /* Default theme specific background. It is overwritten whether we have a\n",
              "  specific estimator or a Pipeline/ColumnTransformer */\n",
              "  background-color: var(--sklearn-color-background);\n",
              "}\n",
              "\n",
              "/* Toggleable label */\n",
              "#sk-container-id-2 label.sk-toggleable__label {\n",
              "  cursor: pointer;\n",
              "  display: block;\n",
              "  width: 100%;\n",
              "  margin-bottom: 0;\n",
              "  padding: 0.5em;\n",
              "  box-sizing: border-box;\n",
              "  text-align: center;\n",
              "}\n",
              "\n",
              "#sk-container-id-2 label.sk-toggleable__label-arrow:before {\n",
              "  /* Arrow on the left of the label */\n",
              "  content: \"▸\";\n",
              "  float: left;\n",
              "  margin-right: 0.25em;\n",
              "  color: var(--sklearn-color-icon);\n",
              "}\n",
              "\n",
              "#sk-container-id-2 label.sk-toggleable__label-arrow:hover:before {\n",
              "  color: var(--sklearn-color-text);\n",
              "}\n",
              "\n",
              "/* Toggleable content - dropdown */\n",
              "\n",
              "#sk-container-id-2 div.sk-toggleable__content {\n",
              "  max-height: 0;\n",
              "  max-width: 0;\n",
              "  overflow: hidden;\n",
              "  text-align: left;\n",
              "  /* unfitted */\n",
              "  background-color: var(--sklearn-color-unfitted-level-0);\n",
              "}\n",
              "\n",
              "#sk-container-id-2 div.sk-toggleable__content.fitted {\n",
              "  /* fitted */\n",
              "  background-color: var(--sklearn-color-fitted-level-0);\n",
              "}\n",
              "\n",
              "#sk-container-id-2 div.sk-toggleable__content pre {\n",
              "  margin: 0.2em;\n",
              "  border-radius: 0.25em;\n",
              "  color: var(--sklearn-color-text);\n",
              "  /* unfitted */\n",
              "  background-color: var(--sklearn-color-unfitted-level-0);\n",
              "}\n",
              "\n",
              "#sk-container-id-2 div.sk-toggleable__content.fitted pre {\n",
              "  /* unfitted */\n",
              "  background-color: var(--sklearn-color-fitted-level-0);\n",
              "}\n",
              "\n",
              "#sk-container-id-2 input.sk-toggleable__control:checked~div.sk-toggleable__content {\n",
              "  /* Expand drop-down */\n",
              "  max-height: 200px;\n",
              "  max-width: 100%;\n",
              "  overflow: auto;\n",
              "}\n",
              "\n",
              "#sk-container-id-2 input.sk-toggleable__control:checked~label.sk-toggleable__label-arrow:before {\n",
              "  content: \"▾\";\n",
              "}\n",
              "\n",
              "/* Pipeline/ColumnTransformer-specific style */\n",
              "\n",
              "#sk-container-id-2 div.sk-label input.sk-toggleable__control:checked~label.sk-toggleable__label {\n",
              "  color: var(--sklearn-color-text);\n",
              "  background-color: var(--sklearn-color-unfitted-level-2);\n",
              "}\n",
              "\n",
              "#sk-container-id-2 div.sk-label.fitted input.sk-toggleable__control:checked~label.sk-toggleable__label {\n",
              "  background-color: var(--sklearn-color-fitted-level-2);\n",
              "}\n",
              "\n",
              "/* Estimator-specific style */\n",
              "\n",
              "/* Colorize estimator box */\n",
              "#sk-container-id-2 div.sk-estimator input.sk-toggleable__control:checked~label.sk-toggleable__label {\n",
              "  /* unfitted */\n",
              "  background-color: var(--sklearn-color-unfitted-level-2);\n",
              "}\n",
              "\n",
              "#sk-container-id-2 div.sk-estimator.fitted input.sk-toggleable__control:checked~label.sk-toggleable__label {\n",
              "  /* fitted */\n",
              "  background-color: var(--sklearn-color-fitted-level-2);\n",
              "}\n",
              "\n",
              "#sk-container-id-2 div.sk-label label.sk-toggleable__label,\n",
              "#sk-container-id-2 div.sk-label label {\n",
              "  /* The background is the default theme color */\n",
              "  color: var(--sklearn-color-text-on-default-background);\n",
              "}\n",
              "\n",
              "/* On hover, darken the color of the background */\n",
              "#sk-container-id-2 div.sk-label:hover label.sk-toggleable__label {\n",
              "  color: var(--sklearn-color-text);\n",
              "  background-color: var(--sklearn-color-unfitted-level-2);\n",
              "}\n",
              "\n",
              "/* Label box, darken color on hover, fitted */\n",
              "#sk-container-id-2 div.sk-label.fitted:hover label.sk-toggleable__label.fitted {\n",
              "  color: var(--sklearn-color-text);\n",
              "  background-color: var(--sklearn-color-fitted-level-2);\n",
              "}\n",
              "\n",
              "/* Estimator label */\n",
              "\n",
              "#sk-container-id-2 div.sk-label label {\n",
              "  font-family: monospace;\n",
              "  font-weight: bold;\n",
              "  display: inline-block;\n",
              "  line-height: 1.2em;\n",
              "}\n",
              "\n",
              "#sk-container-id-2 div.sk-label-container {\n",
              "  text-align: center;\n",
              "}\n",
              "\n",
              "/* Estimator-specific */\n",
              "#sk-container-id-2 div.sk-estimator {\n",
              "  font-family: monospace;\n",
              "  border: 1px dotted var(--sklearn-color-border-box);\n",
              "  border-radius: 0.25em;\n",
              "  box-sizing: border-box;\n",
              "  margin-bottom: 0.5em;\n",
              "  /* unfitted */\n",
              "  background-color: var(--sklearn-color-unfitted-level-0);\n",
              "}\n",
              "\n",
              "#sk-container-id-2 div.sk-estimator.fitted {\n",
              "  /* fitted */\n",
              "  background-color: var(--sklearn-color-fitted-level-0);\n",
              "}\n",
              "\n",
              "/* on hover */\n",
              "#sk-container-id-2 div.sk-estimator:hover {\n",
              "  /* unfitted */\n",
              "  background-color: var(--sklearn-color-unfitted-level-2);\n",
              "}\n",
              "\n",
              "#sk-container-id-2 div.sk-estimator.fitted:hover {\n",
              "  /* fitted */\n",
              "  background-color: var(--sklearn-color-fitted-level-2);\n",
              "}\n",
              "\n",
              "/* Specification for estimator info (e.g. \"i\" and \"?\") */\n",
              "\n",
              "/* Common style for \"i\" and \"?\" */\n",
              "\n",
              ".sk-estimator-doc-link,\n",
              "a:link.sk-estimator-doc-link,\n",
              "a:visited.sk-estimator-doc-link {\n",
              "  float: right;\n",
              "  font-size: smaller;\n",
              "  line-height: 1em;\n",
              "  font-family: monospace;\n",
              "  background-color: var(--sklearn-color-background);\n",
              "  border-radius: 1em;\n",
              "  height: 1em;\n",
              "  width: 1em;\n",
              "  text-decoration: none !important;\n",
              "  margin-left: 1ex;\n",
              "  /* unfitted */\n",
              "  border: var(--sklearn-color-unfitted-level-1) 1pt solid;\n",
              "  color: var(--sklearn-color-unfitted-level-1);\n",
              "}\n",
              "\n",
              ".sk-estimator-doc-link.fitted,\n",
              "a:link.sk-estimator-doc-link.fitted,\n",
              "a:visited.sk-estimator-doc-link.fitted {\n",
              "  /* fitted */\n",
              "  border: var(--sklearn-color-fitted-level-1) 1pt solid;\n",
              "  color: var(--sklearn-color-fitted-level-1);\n",
              "}\n",
              "\n",
              "/* On hover */\n",
              "div.sk-estimator:hover .sk-estimator-doc-link:hover,\n",
              ".sk-estimator-doc-link:hover,\n",
              "div.sk-label-container:hover .sk-estimator-doc-link:hover,\n",
              ".sk-estimator-doc-link:hover {\n",
              "  /* unfitted */\n",
              "  background-color: var(--sklearn-color-unfitted-level-3);\n",
              "  color: var(--sklearn-color-background);\n",
              "  text-decoration: none;\n",
              "}\n",
              "\n",
              "div.sk-estimator.fitted:hover .sk-estimator-doc-link.fitted:hover,\n",
              ".sk-estimator-doc-link.fitted:hover,\n",
              "div.sk-label-container:hover .sk-estimator-doc-link.fitted:hover,\n",
              ".sk-estimator-doc-link.fitted:hover {\n",
              "  /* fitted */\n",
              "  background-color: var(--sklearn-color-fitted-level-3);\n",
              "  color: var(--sklearn-color-background);\n",
              "  text-decoration: none;\n",
              "}\n",
              "\n",
              "/* Span, style for the box shown on hovering the info icon */\n",
              ".sk-estimator-doc-link span {\n",
              "  display: none;\n",
              "  z-index: 9999;\n",
              "  position: relative;\n",
              "  font-weight: normal;\n",
              "  right: .2ex;\n",
              "  padding: .5ex;\n",
              "  margin: .5ex;\n",
              "  width: min-content;\n",
              "  min-width: 20ex;\n",
              "  max-width: 50ex;\n",
              "  color: var(--sklearn-color-text);\n",
              "  box-shadow: 2pt 2pt 4pt #999;\n",
              "  /* unfitted */\n",
              "  background: var(--sklearn-color-unfitted-level-0);\n",
              "  border: .5pt solid var(--sklearn-color-unfitted-level-3);\n",
              "}\n",
              "\n",
              ".sk-estimator-doc-link.fitted span {\n",
              "  /* fitted */\n",
              "  background: var(--sklearn-color-fitted-level-0);\n",
              "  border: var(--sklearn-color-fitted-level-3);\n",
              "}\n",
              "\n",
              ".sk-estimator-doc-link:hover span {\n",
              "  display: block;\n",
              "}\n",
              "\n",
              "/* \"?\"-specific style due to the `<a>` HTML tag */\n",
              "\n",
              "#sk-container-id-2 a.estimator_doc_link {\n",
              "  float: right;\n",
              "  font-size: 1rem;\n",
              "  line-height: 1em;\n",
              "  font-family: monospace;\n",
              "  background-color: var(--sklearn-color-background);\n",
              "  border-radius: 1rem;\n",
              "  height: 1rem;\n",
              "  width: 1rem;\n",
              "  text-decoration: none;\n",
              "  /* unfitted */\n",
              "  color: var(--sklearn-color-unfitted-level-1);\n",
              "  border: var(--sklearn-color-unfitted-level-1) 1pt solid;\n",
              "}\n",
              "\n",
              "#sk-container-id-2 a.estimator_doc_link.fitted {\n",
              "  /* fitted */\n",
              "  border: var(--sklearn-color-fitted-level-1) 1pt solid;\n",
              "  color: var(--sklearn-color-fitted-level-1);\n",
              "}\n",
              "\n",
              "/* On hover */\n",
              "#sk-container-id-2 a.estimator_doc_link:hover {\n",
              "  /* unfitted */\n",
              "  background-color: var(--sklearn-color-unfitted-level-3);\n",
              "  color: var(--sklearn-color-background);\n",
              "  text-decoration: none;\n",
              "}\n",
              "\n",
              "#sk-container-id-2 a.estimator_doc_link.fitted:hover {\n",
              "  /* fitted */\n",
              "  background-color: var(--sklearn-color-fitted-level-3);\n",
              "}\n",
              "</style><div id=\"sk-container-id-2\" class=\"sk-top-container\"><div class=\"sk-text-repr-fallback\"><pre>TPOTClassifier(cv=5, random_state=42, scorers=&#x27;roc_auc&#x27;,\n",
              "               search_space=&lt;tpot.search_spaces.pipelines.sequential.SequentialPipeline object at 0x00000242A6DBD360&gt;)</pre><b>In a Jupyter environment, please rerun this cell to show the HTML representation or trust the notebook. <br />On GitHub, the HTML representation is unable to render, please try loading this page with nbviewer.org.</b></div><div class=\"sk-container\" hidden><div class=\"sk-item\"><div class=\"sk-estimator fitted sk-toggleable\"><input class=\"sk-toggleable__control sk-hidden--visually\" id=\"sk-estimator-id-2\" type=\"checkbox\" checked><label for=\"sk-estimator-id-2\" class=\"sk-toggleable__label fitted sk-toggleable__label-arrow fitted\">&nbsp;TPOTClassifier<span class=\"sk-estimator-doc-link fitted\">i<span>Fitted</span></span></label><div class=\"sk-toggleable__content fitted\"><pre>TPOTClassifier(cv=5, random_state=42, scorers=&#x27;roc_auc&#x27;,\n",
              "               search_space=&lt;tpot.search_spaces.pipelines.sequential.SequentialPipeline object at 0x00000242A6DBD360&gt;)</pre></div> </div></div></div></div>"
            ],
            "text/plain": [
              "TPOTClassifier(cv=5, random_state=42, scorers='roc_auc',\n",
              "               search_space=<tpot.search_spaces.pipelines.sequential.SequentialPipeline object at 0x00000242A6DBD360>)"
            ]
          },
          "execution_count": 412,
          "metadata": {},
          "output_type": "execute_result"
        }
      ],
      "source": [
        "# Обучение TPOT\n",
        "tpot.fit(X_train, y_train)"
      ]
    },
    {
      "cell_type": "code",
      "execution_count": 413,
      "metadata": {
        "id": "HRcDVCMWdd2p"
      },
      "outputs": [],
      "source": [
        "# Оценка модели на валидационных данных\n",
        "y_pred, y_proba = tpot_prediction(X_val)"
      ]
    },
    {
      "cell_type": "code",
      "execution_count": 414,
      "metadata": {
        "id": "xua1OGMchzns"
      },
      "outputs": [
        {
          "name": "stdout",
          "output_type": "stream",
          "text": [
            "RMSE: 0.5944\n",
            "MAE: 0.3533\n",
            "R2: -0.48\n",
            "Accuracy: 0.6467\n",
            "Precision: 0.5506\n",
            "Recall: 0.5281\n",
            "F1-Score: 0.5391\n",
            "ROC_AUC: 0.7108\n",
            "\n",
            "Confusion Matrix:\n",
            " [[660 253]\n",
            " [277 310]]\n",
            "\n",
            "Classification Report:\n",
            "               precision    recall  f1-score   support\n",
            "\n",
            "           0       0.70      0.72      0.71       913\n",
            "           1       0.55      0.53      0.54       587\n",
            "\n",
            "    accuracy                           0.65      1500\n",
            "   macro avg       0.63      0.63      0.63      1500\n",
            "weighted avg       0.64      0.65      0.65      1500\n",
            "\n"
          ]
        }
      ],
      "source": [
        "metrics(y_val, y_pred, y_proba)"
      ]
    },
    {
      "cell_type": "code",
      "execution_count": 415,
      "metadata": {},
      "outputs": [
        {
          "ename": "AttributeError",
          "evalue": "'TPOTClassifier' object has no attribute 'best_model'",
          "output_type": "error",
          "traceback": [
            "\u001b[1;31m---------------------------------------------------------------------------\u001b[0m",
            "\u001b[1;31mAttributeError\u001b[0m                            Traceback (most recent call last)",
            "Cell \u001b[1;32mIn[415], line 1\u001b[0m\n\u001b[1;32m----> 1\u001b[0m \u001b[38;5;28mprint\u001b[39m(\u001b[43mtpot\u001b[49m\u001b[38;5;241;43m.\u001b[39;49m\u001b[43mbest_model\u001b[49m())\n",
            "\u001b[1;31mAttributeError\u001b[0m: 'TPOTClassifier' object has no attribute 'best_model'"
          ]
        }
      ],
      "source": [
        "print(tpot.best_model())"
      ]
    },
    {
      "cell_type": "code",
      "execution_count": null,
      "metadata": {
        "id": "bW4mmMytui8Q"
      },
      "outputs": [
        {
          "ename": "AttributeError",
          "evalue": "'TPOTClassifier' object has no attribute 'export'",
          "output_type": "error",
          "traceback": [
            "\u001b[1;31m---------------------------------------------------------------------------\u001b[0m",
            "\u001b[1;31mAttributeError\u001b[0m                            Traceback (most recent call last)",
            "Cell \u001b[1;32mIn[361], line 2\u001b[0m\n\u001b[0;32m      1\u001b[0m \u001b[38;5;66;03m# Экспорт лучшего пайплайна в виде Python-кода\u001b[39;00m\n\u001b[1;32m----> 2\u001b[0m \u001b[43mtpot\u001b[49m\u001b[38;5;241;43m.\u001b[39;49m\u001b[43mexport\u001b[49m(\u001b[38;5;124m'\u001b[39m\u001b[38;5;124mtpot_pipeline.py\u001b[39m\u001b[38;5;124m'\u001b[39m)\n",
            "\u001b[1;31mAttributeError\u001b[0m: 'TPOTClassifier' object has no attribute 'export'"
          ]
        }
      ],
      "source": [
        "# Экспорт лучшего пайплайна в виде Python-кода\n",
        "tpot.export('tpot_pipeline.py')"
      ]
    },
    {
      "cell_type": "code",
      "execution_count": 416,
      "metadata": {
        "id": "39IcDEM_a4PF"
      },
      "outputs": [],
      "source": [
        "# Предсказание на тестовых данных\n",
        "test_predictions, test_probablity = tpot_prediction(X_test)"
      ]
    },
    {
      "cell_type": "code",
      "execution_count": 417,
      "metadata": {
        "id": "JvO-1VAVi0GH"
      },
      "outputs": [
        {
          "name": "stdout",
          "output_type": "stream",
          "text": [
            "RMSE: 0.5899\n",
            "MAE: 0.3480\n",
            "R2: -0.46\n",
            "Accuracy: 0.6520\n",
            "Precision: 0.6667\n",
            "Recall: 0.2245\n",
            "F1-Score: 0.3359\n",
            "ROC_AUC: 0.5648\n",
            "\n",
            "Confusion Matrix:\n",
            " [[141  11]\n",
            " [ 76  22]]\n",
            "\n",
            "Classification Report:\n",
            "               precision    recall  f1-score   support\n",
            "\n",
            "           0       0.65      0.93      0.76       152\n",
            "           1       0.67      0.22      0.34        98\n",
            "\n",
            "    accuracy                           0.65       250\n",
            "   macro avg       0.66      0.58      0.55       250\n",
            "weighted avg       0.66      0.65      0.60       250\n",
            "\n"
          ]
        }
      ],
      "source": [
        "metrics(y_test, test_predictions, test_probablity)"
      ]
    },
    {
      "cell_type": "markdown",
      "metadata": {
        "id": "BA4QXhUvgzSc"
      },
      "source": [
        "## Обучение H2O"
      ]
    },
    {
      "cell_type": "code",
      "execution_count": null,
      "metadata": {
        "id": "V5HUqKVLdMQl"
      },
      "outputs": [],
      "source": [
        "%pip install h2o"
      ]
    },
    {
      "cell_type": "code",
      "execution_count": 418,
      "metadata": {
        "id": "09CkGvO-dLf9"
      },
      "outputs": [],
      "source": [
        "import h2o\n",
        "from h2o.automl import H2OAutoML"
      ]
    },
    {
      "cell_type": "code",
      "execution_count": 428,
      "metadata": {
        "id": "y-6qw4FBduue"
      },
      "outputs": [
        {
          "name": "stdout",
          "output_type": "stream",
          "text": [
            "Checking whether there is an H2O instance running at http://127.0.0.1:54321..... not found.\n",
            "Attempting to start a local H2O server...\n",
            "; Java HotSpot(TM) Client VM (build 25.411-b09, mixed mode, sharing)\n",
            "  Starting server from C:\\Users\\AntMur00\\Desktop\\Magister22\\LoanStatus\\.venv\\Lib\\site-packages\\h2o\\backend\\bin\\h2o.jar\n",
            "  Ice root: C:\\Users\\AntMur00\\AppData\\Local\\Temp\\tmpwcsonncm\n",
            "  JVM stdout: C:\\Users\\AntMur00\\AppData\\Local\\Temp\\tmpwcsonncm\\h2o_AntMur00_started_from_python.out\n",
            "  JVM stderr: C:\\Users\\AntMur00\\AppData\\Local\\Temp\\tmpwcsonncm\\h2o_AntMur00_started_from_python.err\n"
          ]
        },
        {
          "ename": "H2OServerError",
          "evalue": "Server process terminated with error code 1: Invalid maximum heap size: -Xmx4G\nThe specified size exceeds the maximum representable size.\nError: Could not create the Java Virtual Machine.\nError: A fatal exception has occurred. Program will exit.\n",
          "output_type": "error",
          "traceback": [
            "\u001b[1;31m---------------------------------------------------------------------------\u001b[0m",
            "\u001b[1;31mH2OConnectionError\u001b[0m                        Traceback (most recent call last)",
            "File \u001b[1;32mc:\\Users\\AntMur00\\Desktop\\Magister22\\LoanStatus\\.venv\\lib\\site-packages\\h2o\\h2o.py:270\u001b[0m, in \u001b[0;36minit\u001b[1;34m(url, ip, port, name, https, cacert, insecure, username, password, cookies, proxy, start_h2o, nthreads, ice_root, log_dir, log_level, max_log_file_size, enable_assertions, max_mem_size, min_mem_size, strict_version_check, ignore_config, extra_classpath, jvm_custom_args, bind_to_localhost, verbose, **kwargs)\u001b[0m\n\u001b[0;32m    269\u001b[0m \u001b[38;5;28;01mtry\u001b[39;00m:\n\u001b[1;32m--> 270\u001b[0m     h2oconn \u001b[38;5;241m=\u001b[39m \u001b[43mH2OConnection\u001b[49m\u001b[38;5;241;43m.\u001b[39;49m\u001b[43mopen\u001b[49m\u001b[43m(\u001b[49m\u001b[43murl\u001b[49m\u001b[38;5;241;43m=\u001b[39;49m\u001b[43murl\u001b[49m\u001b[43m,\u001b[49m\u001b[43m \u001b[49m\u001b[43mip\u001b[49m\u001b[38;5;241;43m=\u001b[39;49m\u001b[43mip\u001b[49m\u001b[43m,\u001b[49m\u001b[43m \u001b[49m\u001b[43mport\u001b[49m\u001b[38;5;241;43m=\u001b[39;49m\u001b[43mport\u001b[49m\u001b[43m,\u001b[49m\u001b[43m \u001b[49m\u001b[43mname\u001b[49m\u001b[38;5;241;43m=\u001b[39;49m\u001b[43mname\u001b[49m\u001b[43m,\u001b[49m\u001b[43m \u001b[49m\u001b[43mhttps\u001b[49m\u001b[38;5;241;43m=\u001b[39;49m\u001b[43mhttps\u001b[49m\u001b[43m,\u001b[49m\n\u001b[0;32m    271\u001b[0m \u001b[43m                                 \u001b[49m\u001b[43mverify_ssl_certificates\u001b[49m\u001b[38;5;241;43m=\u001b[39;49m\u001b[43mverify_ssl_certificates\u001b[49m\u001b[43m,\u001b[49m\u001b[43m \u001b[49m\u001b[43mcacert\u001b[49m\u001b[38;5;241;43m=\u001b[39;49m\u001b[43mcacert\u001b[49m\u001b[43m,\u001b[49m\n\u001b[0;32m    272\u001b[0m \u001b[43m                                 \u001b[49m\u001b[43mauth\u001b[49m\u001b[38;5;241;43m=\u001b[39;49m\u001b[43mauth\u001b[49m\u001b[43m,\u001b[49m\u001b[43m \u001b[49m\u001b[43mproxy\u001b[49m\u001b[38;5;241;43m=\u001b[39;49m\u001b[43mproxy\u001b[49m\u001b[43m,\u001b[49m\u001b[43m \u001b[49m\u001b[43mcookies\u001b[49m\u001b[38;5;241;43m=\u001b[39;49m\u001b[43mcookies\u001b[49m\u001b[43m,\u001b[49m\u001b[43m \u001b[49m\u001b[43mverbose\u001b[49m\u001b[38;5;241;43m=\u001b[39;49m\u001b[43mverbose\u001b[49m\u001b[43m,\u001b[49m\n\u001b[0;32m    273\u001b[0m \u001b[43m                                 \u001b[49m\u001b[43mmsgs\u001b[49m\u001b[38;5;241;43m=\u001b[39;49m\u001b[43m(\u001b[49m\u001b[38;5;124;43m\"\u001b[39;49m\u001b[38;5;124;43mChecking whether there is an H2O instance running at \u001b[39;49m\u001b[38;5;132;43;01m{url}\u001b[39;49;00m\u001b[38;5;124;43m\"\u001b[39;49m\u001b[43m,\u001b[49m\n\u001b[0;32m    274\u001b[0m \u001b[43m                                       \u001b[49m\u001b[38;5;124;43m\"\u001b[39;49m\u001b[38;5;124;43mconnected.\u001b[39;49m\u001b[38;5;124;43m\"\u001b[39;49m\u001b[43m,\u001b[49m\u001b[43m \u001b[49m\u001b[38;5;124;43m\"\u001b[39;49m\u001b[38;5;124;43mnot found.\u001b[39;49m\u001b[38;5;124;43m\"\u001b[39;49m\u001b[43m)\u001b[49m\u001b[43m,\u001b[49m\n\u001b[0;32m    275\u001b[0m \u001b[43m                                 \u001b[49m\u001b[43mstrict_version_check\u001b[49m\u001b[38;5;241;43m=\u001b[39;49m\u001b[43msvc\u001b[49m\u001b[43m)\u001b[49m\n\u001b[0;32m    276\u001b[0m \u001b[38;5;28;01mexcept\u001b[39;00m H2OConnectionError:\n\u001b[0;32m    277\u001b[0m     \u001b[38;5;66;03m# Backward compatibility: in init() port parameter really meant \"baseport\" when starting a local server...\u001b[39;00m\n",
            "File \u001b[1;32mc:\\Users\\AntMur00\\Desktop\\Magister22\\LoanStatus\\.venv\\lib\\site-packages\\h2o\\backend\\connection.py:406\u001b[0m, in \u001b[0;36mH2OConnection.open\u001b[1;34m(server, url, ip, port, name, https, auth, verify_ssl_certificates, cacert, proxy, cookies, verbose, msgs, strict_version_check)\u001b[0m\n\u001b[0;32m    405\u001b[0m conn\u001b[38;5;241m.\u001b[39m_timeout \u001b[38;5;241m=\u001b[39m \u001b[38;5;241m3.0\u001b[39m\n\u001b[1;32m--> 406\u001b[0m conn\u001b[38;5;241m.\u001b[39m_cluster \u001b[38;5;241m=\u001b[39m \u001b[43mconn\u001b[49m\u001b[38;5;241;43m.\u001b[39;49m\u001b[43m_test_connection\u001b[49m\u001b[43m(\u001b[49m\u001b[43mretries\u001b[49m\u001b[43m,\u001b[49m\u001b[43m \u001b[49m\u001b[43mmessages\u001b[49m\u001b[38;5;241;43m=\u001b[39;49m\u001b[43mmsgs\u001b[49m\u001b[43m)\u001b[49m\n\u001b[0;32m    407\u001b[0m \u001b[38;5;66;03m# If a server is unable to respond within 1s, it should be considered a bug. However we disable this\u001b[39;00m\n\u001b[0;32m    408\u001b[0m \u001b[38;5;66;03m# setting for now, for no good reason other than to ignore all those bugs :(\u001b[39;00m\n",
            "File \u001b[1;32mc:\\Users\\AntMur00\\Desktop\\Magister22\\LoanStatus\\.venv\\lib\\site-packages\\h2o\\backend\\connection.py:713\u001b[0m, in \u001b[0;36mH2OConnection._test_connection\u001b[1;34m(self, max_retries, messages)\u001b[0m\n\u001b[0;32m    712\u001b[0m \u001b[38;5;28;01melse\u001b[39;00m:\n\u001b[1;32m--> 713\u001b[0m     \u001b[38;5;28;01mraise\u001b[39;00m H2OConnectionError(\u001b[38;5;124m\"\u001b[39m\u001b[38;5;124mCould not establish link to the H2O cloud \u001b[39m\u001b[38;5;132;01m%s\u001b[39;00m\u001b[38;5;124m after \u001b[39m\u001b[38;5;132;01m%d\u001b[39;00m\u001b[38;5;124m retries\u001b[39m\u001b[38;5;130;01m\\n\u001b[39;00m\u001b[38;5;132;01m%s\u001b[39;00m\u001b[38;5;124m\"\u001b[39m\n\u001b[0;32m    714\u001b[0m                              \u001b[38;5;241m%\u001b[39m (\u001b[38;5;28mself\u001b[39m\u001b[38;5;241m.\u001b[39m_base_url, max_retries, \u001b[38;5;124m\"\u001b[39m\u001b[38;5;130;01m\\n\u001b[39;00m\u001b[38;5;124m\"\u001b[39m\u001b[38;5;241m.\u001b[39mjoin(errors)))\n",
            "\u001b[1;31mH2OConnectionError\u001b[0m: Could not establish link to the H2O cloud http://127.0.0.1:54321 after 5 retries\n[31:12.82] H2OConnectionError: Unexpected HTTP error: HTTPConnectionPool(host='127.0.0.1', port=54321): Max retries exceeded with url: /3/Metadata/schemas/CloudV3 (Caused by NewConnectionError('<urllib3.connection.HTTPConnection object at 0x000002431EDD6F50>: Failed to establish a new connection: [WinError 10061] Подключение не установлено, т.к. конечный компьютер отверг запрос на подключение'))\n[31:15.06] H2OConnectionError: Unexpected HTTP error: HTTPConnectionPool(host='127.0.0.1', port=54321): Max retries exceeded with url: /3/Metadata/schemas/CloudV3 (Caused by NewConnectionError('<urllib3.connection.HTTPConnection object at 0x000002431EDD97E0>: Failed to establish a new connection: [WinError 10061] Подключение не установлено, т.к. конечный компьютер отверг запрос на подключение'))\n[31:17.30] H2OConnectionError: Unexpected HTTP error: HTTPConnectionPool(host='127.0.0.1', port=54321): Max retries exceeded with url: /3/Metadata/schemas/CloudV3 (Caused by NewConnectionError('<urllib3.connection.HTTPConnection object at 0x000002431EDDA560>: Failed to establish a new connection: [WinError 10061] Подключение не установлено, т.к. конечный компьютер отверг запрос на подключение'))\n[31:19.54] H2OConnectionError: Unexpected HTTP error: HTTPConnectionPool(host='127.0.0.1', port=54321): Max retries exceeded with url: /3/Metadata/schemas/CloudV3 (Caused by NewConnectionError('<urllib3.connection.HTTPConnection object at 0x000002431EDD6AD0>: Failed to establish a new connection: [WinError 10061] Подключение не установлено, т.к. конечный компьютер отверг запрос на подключение'))\n[31:21.78] H2OConnectionError: Unexpected HTTP error: HTTPConnectionPool(host='127.0.0.1', port=54321): Max retries exceeded with url: /3/Metadata/schemas/CloudV3 (Caused by NewConnectionError('<urllib3.connection.HTTPConnection object at 0x000002431EDDB490>: Failed to establish a new connection: [WinError 10061] Подключение не установлено, т.к. конечный компьютер отверг запрос на подключение'))",
            "\nDuring handling of the above exception, another exception occurred:\n",
            "\u001b[1;31mH2OServerError\u001b[0m                            Traceback (most recent call last)",
            "Cell \u001b[1;32mIn[428], line 2\u001b[0m\n\u001b[0;32m      1\u001b[0m \u001b[38;5;66;03m# Ячейка 2: Инициализация H2O и загрузка данных\u001b[39;00m\n\u001b[1;32m----> 2\u001b[0m \u001b[43mh2o\u001b[49m\u001b[38;5;241;43m.\u001b[39;49m\u001b[43minit\u001b[49m\u001b[43m(\u001b[49m\u001b[43mnthreads\u001b[49m\u001b[38;5;241;43m=\u001b[39;49m\u001b[38;5;241;43m-\u001b[39;49m\u001b[38;5;241;43m1\u001b[39;49m\u001b[43m,\u001b[49m\u001b[43m \u001b[49m\u001b[43mmax_mem_size\u001b[49m\u001b[38;5;241;43m=\u001b[39;49m\u001b[38;5;124;43m\"\u001b[39;49m\u001b[38;5;124;43m4G\u001b[39;49m\u001b[38;5;124;43m\"\u001b[39;49m\u001b[43m,\u001b[49m\u001b[43m \u001b[49m\u001b[43mip\u001b[49m\u001b[38;5;241;43m=\u001b[39;49m\u001b[38;5;124;43m\"\u001b[39;49m\u001b[38;5;124;43m127.0.0.1\u001b[39;49m\u001b[38;5;124;43m\"\u001b[39;49m\u001b[43m)\u001b[49m\n",
            "File \u001b[1;32mc:\\Users\\AntMur00\\Desktop\\Magister22\\LoanStatus\\.venv\\lib\\site-packages\\h2o\\h2o.py:287\u001b[0m, in \u001b[0;36minit\u001b[1;34m(url, ip, port, name, https, cacert, insecure, username, password, cookies, proxy, start_h2o, nthreads, ice_root, log_dir, log_level, max_log_file_size, enable_assertions, max_mem_size, min_mem_size, strict_version_check, ignore_config, extra_classpath, jvm_custom_args, bind_to_localhost, verbose, **kwargs)\u001b[0m\n\u001b[0;32m    283\u001b[0m     \u001b[38;5;28;01mif\u001b[39;00m https:\n\u001b[0;32m    284\u001b[0m         \u001b[38;5;28;01mraise\u001b[39;00m H2OConnectionError(\u001b[38;5;124m'\u001b[39m\u001b[38;5;124mStarting local server is not available with https enabled. You may start local\u001b[39m\u001b[38;5;124m'\u001b[39m\n\u001b[0;32m    285\u001b[0m                                  \u001b[38;5;124m'\u001b[39m\u001b[38;5;124m instance of H2O with https manually \u001b[39m\u001b[38;5;124m'\u001b[39m\n\u001b[0;32m    286\u001b[0m                                  \u001b[38;5;124m'\u001b[39m\u001b[38;5;124m(https://docs.h2o.ai/h2o/latest-stable/h2o-docs/welcome.html#new-user-quick-start).\u001b[39m\u001b[38;5;124m'\u001b[39m)\n\u001b[1;32m--> 287\u001b[0m     hs \u001b[38;5;241m=\u001b[39m \u001b[43mH2OLocalServer\u001b[49m\u001b[38;5;241;43m.\u001b[39;49m\u001b[43mstart\u001b[49m\u001b[43m(\u001b[49m\u001b[43mnthreads\u001b[49m\u001b[38;5;241;43m=\u001b[39;49m\u001b[43mnthreads\u001b[49m\u001b[43m,\u001b[49m\u001b[43m \u001b[49m\u001b[43menable_assertions\u001b[49m\u001b[38;5;241;43m=\u001b[39;49m\u001b[43menable_assertions\u001b[49m\u001b[43m,\u001b[49m\u001b[43m \u001b[49m\u001b[43mmax_mem_size\u001b[49m\u001b[38;5;241;43m=\u001b[39;49m\u001b[43mmmax\u001b[49m\u001b[43m,\u001b[49m\n\u001b[0;32m    288\u001b[0m \u001b[43m                              \u001b[49m\u001b[43mmin_mem_size\u001b[49m\u001b[38;5;241;43m=\u001b[39;49m\u001b[43mmmin\u001b[49m\u001b[43m,\u001b[49m\u001b[43m \u001b[49m\u001b[43mice_root\u001b[49m\u001b[38;5;241;43m=\u001b[39;49m\u001b[43mice_root\u001b[49m\u001b[43m,\u001b[49m\u001b[43m \u001b[49m\u001b[43mlog_dir\u001b[49m\u001b[38;5;241;43m=\u001b[39;49m\u001b[43mlog_dir\u001b[49m\u001b[43m,\u001b[49m\u001b[43m \u001b[49m\u001b[43mlog_level\u001b[49m\u001b[38;5;241;43m=\u001b[39;49m\u001b[43mlog_level\u001b[49m\u001b[43m,\u001b[49m\n\u001b[0;32m    289\u001b[0m \u001b[43m                              \u001b[49m\u001b[43mmax_log_file_size\u001b[49m\u001b[38;5;241;43m=\u001b[39;49m\u001b[43mmax_log_file_size\u001b[49m\u001b[43m,\u001b[49m\u001b[43m \u001b[49m\u001b[43mport\u001b[49m\u001b[38;5;241;43m=\u001b[39;49m\u001b[43mport\u001b[49m\u001b[43m,\u001b[49m\u001b[43m \u001b[49m\u001b[43mname\u001b[49m\u001b[38;5;241;43m=\u001b[39;49m\u001b[43mname\u001b[49m\u001b[43m,\u001b[49m\n\u001b[0;32m    290\u001b[0m \u001b[43m                              \u001b[49m\u001b[43mextra_classpath\u001b[49m\u001b[38;5;241;43m=\u001b[39;49m\u001b[43mextra_classpath\u001b[49m\u001b[43m,\u001b[49m\u001b[43m \u001b[49m\u001b[43mjvm_custom_args\u001b[49m\u001b[38;5;241;43m=\u001b[39;49m\u001b[43mjvm_custom_args\u001b[49m\u001b[43m,\u001b[49m\n\u001b[0;32m    291\u001b[0m \u001b[43m                              \u001b[49m\u001b[43mbind_to_localhost\u001b[49m\u001b[38;5;241;43m=\u001b[39;49m\u001b[43mbind_to_localhost\u001b[49m\u001b[43m,\u001b[49m\u001b[43mverbose\u001b[49m\u001b[38;5;241;43m=\u001b[39;49m\u001b[43mverbose\u001b[49m\u001b[43m)\u001b[49m\n\u001b[0;32m    292\u001b[0m     h2oconn \u001b[38;5;241m=\u001b[39m H2OConnection\u001b[38;5;241m.\u001b[39mopen(server\u001b[38;5;241m=\u001b[39mhs, https\u001b[38;5;241m=\u001b[39mhttps, verify_ssl_certificates\u001b[38;5;241m=\u001b[39mverify_ssl_certificates,\n\u001b[0;32m    293\u001b[0m                                  cacert\u001b[38;5;241m=\u001b[39mcacert, auth\u001b[38;5;241m=\u001b[39mauth, proxy\u001b[38;5;241m=\u001b[39mproxy, cookies\u001b[38;5;241m=\u001b[39mcookies, verbose\u001b[38;5;241m=\u001b[39mverbose,\n\u001b[0;32m    294\u001b[0m                                  strict_version_check\u001b[38;5;241m=\u001b[39msvc)\n\u001b[0;32m    295\u001b[0m h2oconn\u001b[38;5;241m.\u001b[39mcluster\u001b[38;5;241m.\u001b[39mtimezone \u001b[38;5;241m=\u001b[39m \u001b[38;5;124m\"\u001b[39m\u001b[38;5;124mUTC\u001b[39m\u001b[38;5;124m\"\u001b[39m\n",
            "File \u001b[1;32mc:\\Users\\AntMur00\\Desktop\\Magister22\\LoanStatus\\.venv\\lib\\site-packages\\h2o\\backend\\server.py:139\u001b[0m, in \u001b[0;36mH2OLocalServer.start\u001b[1;34m(jar_path, nthreads, enable_assertions, max_mem_size, min_mem_size, ice_root, log_dir, log_level, max_log_file_size, port, name, extra_classpath, verbose, jvm_custom_args, bind_to_localhost)\u001b[0m\n\u001b[0;32m    136\u001b[0m     hs\u001b[38;5;241m.\u001b[39m_tempdir \u001b[38;5;241m=\u001b[39m hs\u001b[38;5;241m.\u001b[39m_ice_root\n\u001b[0;32m    138\u001b[0m \u001b[38;5;28;01mif\u001b[39;00m verbose: \u001b[38;5;28mprint\u001b[39m(\u001b[38;5;124m\"\u001b[39m\u001b[38;5;124mAttempting to start a local H2O server...\u001b[39m\u001b[38;5;124m\"\u001b[39m)\n\u001b[1;32m--> 139\u001b[0m \u001b[43mhs\u001b[49m\u001b[38;5;241;43m.\u001b[39;49m\u001b[43m_launch_server\u001b[49m\u001b[43m(\u001b[49m\u001b[43mport\u001b[49m\u001b[38;5;241;43m=\u001b[39;49m\u001b[43mport\u001b[49m\u001b[43m,\u001b[49m\u001b[43m \u001b[49m\u001b[43mbaseport\u001b[49m\u001b[38;5;241;43m=\u001b[39;49m\u001b[43mbaseport\u001b[49m\u001b[43m,\u001b[49m\u001b[43m \u001b[49m\u001b[43mnthreads\u001b[49m\u001b[38;5;241;43m=\u001b[39;49m\u001b[38;5;28;43mint\u001b[39;49m\u001b[43m(\u001b[49m\u001b[43mnthreads\u001b[49m\u001b[43m)\u001b[49m\u001b[43m,\u001b[49m\u001b[43m \u001b[49m\u001b[43mea\u001b[49m\u001b[38;5;241;43m=\u001b[39;49m\u001b[43menable_assertions\u001b[49m\u001b[43m,\u001b[49m\n\u001b[0;32m    140\u001b[0m \u001b[43m                  \u001b[49m\u001b[43mmmax\u001b[49m\u001b[38;5;241;43m=\u001b[39;49m\u001b[43mmax_mem_size\u001b[49m\u001b[43m,\u001b[49m\u001b[43m \u001b[49m\u001b[43mmmin\u001b[49m\u001b[38;5;241;43m=\u001b[39;49m\u001b[43mmin_mem_size\u001b[49m\u001b[43m,\u001b[49m\u001b[43m \u001b[49m\u001b[43mjvm_custom_args\u001b[49m\u001b[38;5;241;43m=\u001b[39;49m\u001b[43mjvm_custom_args\u001b[49m\u001b[43m,\u001b[49m\n\u001b[0;32m    141\u001b[0m \u001b[43m                  \u001b[49m\u001b[43mbind_to_localhost\u001b[49m\u001b[38;5;241;43m=\u001b[39;49m\u001b[43mbind_to_localhost\u001b[49m\u001b[43m,\u001b[49m\u001b[43m \u001b[49m\u001b[43mlog_dir\u001b[49m\u001b[38;5;241;43m=\u001b[39;49m\u001b[43mlog_dir\u001b[49m\u001b[43m,\u001b[49m\u001b[43m \u001b[49m\u001b[43mlog_level\u001b[49m\u001b[38;5;241;43m=\u001b[39;49m\u001b[43mlog_level\u001b[49m\u001b[43m,\u001b[49m\u001b[43m \u001b[49m\u001b[43mmax_log_file_size\u001b[49m\u001b[38;5;241;43m=\u001b[39;49m\u001b[43mmax_log_file_size\u001b[49m\u001b[43m)\u001b[49m\n\u001b[0;32m    142\u001b[0m \u001b[38;5;28;01mif\u001b[39;00m verbose: \u001b[38;5;28mprint\u001b[39m(\u001b[38;5;124m\"\u001b[39m\u001b[38;5;124m  Server is running at \u001b[39m\u001b[38;5;132;01m%s\u001b[39;00m\u001b[38;5;124m://\u001b[39m\u001b[38;5;132;01m%s\u001b[39;00m\u001b[38;5;124m:\u001b[39m\u001b[38;5;132;01m%d\u001b[39;00m\u001b[38;5;124m\"\u001b[39m \u001b[38;5;241m%\u001b[39m (hs\u001b[38;5;241m.\u001b[39mscheme, hs\u001b[38;5;241m.\u001b[39mip, hs\u001b[38;5;241m.\u001b[39mport))\n\u001b[0;32m    143\u001b[0m atexit\u001b[38;5;241m.\u001b[39mregister(\u001b[38;5;28;01mlambda\u001b[39;00m: hs\u001b[38;5;241m.\u001b[39mshutdown())\n",
            "File \u001b[1;32mc:\\Users\\AntMur00\\Desktop\\Magister22\\LoanStatus\\.venv\\lib\\site-packages\\h2o\\backend\\server.py:362\u001b[0m, in \u001b[0;36mH2OLocalServer._launch_server\u001b[1;34m(self, port, baseport, mmax, mmin, ea, nthreads, jvm_custom_args, bind_to_localhost, log_dir, log_level, max_log_file_size)\u001b[0m\n\u001b[0;32m    360\u001b[0m     \u001b[38;5;28;01melse\u001b[39;00m:\n\u001b[0;32m    361\u001b[0m         error_message \u001b[38;5;241m+\u001b[39m\u001b[38;5;241m=\u001b[39m \u001b[38;5;124m\"\u001b[39m\u001b[38;5;124m.\u001b[39m\u001b[38;5;124m\"\u001b[39m\n\u001b[1;32m--> 362\u001b[0m     \u001b[38;5;28;01mraise\u001b[39;00m H2OServerError(error_message)\n\u001b[0;32m    363\u001b[0m ret \u001b[38;5;241m=\u001b[39m \u001b[38;5;28mself\u001b[39m\u001b[38;5;241m.\u001b[39m_get_server_info_from_logs()\n\u001b[0;32m    364\u001b[0m \u001b[38;5;28;01mif\u001b[39;00m ret:\n",
            "\u001b[1;31mH2OServerError\u001b[0m: Server process terminated with error code 1: Invalid maximum heap size: -Xmx4G\nThe specified size exceeds the maximum representable size.\nError: Could not create the Java Virtual Machine.\nError: A fatal exception has occurred. Program will exit.\n"
          ]
        }
      ],
      "source": [
        "# Ячейка 2: Инициализация H2O и загрузка данных\n",
        "h2o.init(nthreads=-1, max_mem_size=\"4G\", ip=\"127.0.0.1\")"
      ]
    },
    {
      "cell_type": "code",
      "execution_count": null,
      "metadata": {
        "id": "NTxjB30l2UNB"
      },
      "outputs": [],
      "source": [
        "h2o_train_df, h2o_val_df = train_test_split(train_data, test_size=0.3, random_state=42)"
      ]
    },
    {
      "cell_type": "code",
      "execution_count": null,
      "metadata": {
        "id": "HV6RWQFhJB4G"
      },
      "outputs": [],
      "source": []
    },
    {
      "cell_type": "code",
      "execution_count": null,
      "metadata": {
        "id": "RD0UjgbH5zJ3"
      },
      "outputs": [],
      "source": [
        "h2o_train_df.shape"
      ]
    },
    {
      "cell_type": "code",
      "execution_count": null,
      "metadata": {
        "id": "li7mLPaZ54Le"
      },
      "outputs": [],
      "source": [
        "h2o_val_df.shape"
      ]
    },
    {
      "cell_type": "code",
      "execution_count": null,
      "metadata": {
        "id": "BYu1D-My6VAb"
      },
      "outputs": [],
      "source": [
        "h2o_train_df['flag'] = h2o_train_df['flag'].apply(lambda x: \"yes\" if x == 1 else \"no\")\n",
        "h2o_val_df['flag'] = h2o_val_df['flag'].apply(lambda x: \"yes\" if x == 1 else \"no\")\n",
        "test_data['flag'] = test_data['flag'].apply(lambda x: \"yes\" if x == 1 else \"no\")"
      ]
    },
    {
      "cell_type": "code",
      "execution_count": null,
      "metadata": {
        "id": "bOoJCUFhdApL"
      },
      "outputs": [],
      "source": [
        "# Преобразование в H2O фреймы\n",
        "train_h2o = h2o.H2OFrame(h2o_train_df)\n",
        "val_h2o = h2o.H2OFrame(h2o_val_df)\n",
        "test_h2o = h2o.H2OFrame(test_data)"
      ]
    },
    {
      "cell_type": "code",
      "execution_count": null,
      "metadata": {
        "id": "UzA4bZ-vdCKl"
      },
      "outputs": [],
      "source": [
        "# Определение целевой переменной и признаков\n",
        "target = 'flag'\n",
        "features = list(train_data.columns)"
      ]
    },
    {
      "cell_type": "code",
      "execution_count": null,
      "metadata": {
        "id": "E-QIkx8a8cNb"
      },
      "outputs": [],
      "source": [
        "train_h2o"
      ]
    },
    {
      "cell_type": "code",
      "execution_count": null,
      "metadata": {
        "id": "pGyGH1k1dH6c"
      },
      "outputs": [],
      "source": [
        "# Запуск H2O AutoML\n",
        "aml = H2OAutoML(max_runtime_secs=3600, seed=42, verbosity='info', nfolds=5)\n",
        "aml.train(x=features, y=target, training_frame=train_h2o, validation_frame=val_h2o)\n"
      ]
    },
    {
      "cell_type": "code",
      "execution_count": null,
      "metadata": {
        "id": "Z7Gins4iwu3P"
      },
      "outputs": [],
      "source": []
    },
    {
      "cell_type": "code",
      "execution_count": null,
      "metadata": {
        "id": "0DwBzS-RdP4C"
      },
      "outputs": [],
      "source": [
        "# Вывод Leaderboard\n",
        "print(\"\\nLeaderboard:\")\n",
        "print(aml.leaderboard)"
      ]
    },
    {
      "cell_type": "code",
      "execution_count": null,
      "metadata": {
        "id": "vhAsGwmtdSFi"
      },
      "outputs": [],
      "source": [
        "# Получение лучшей модели\n",
        "best_model = aml.get_best_model()"
      ]
    },
    {
      "cell_type": "code",
      "execution_count": null,
      "metadata": {
        "id": "TB9LYsPBdVGy"
      },
      "outputs": [],
      "source": [
        "# Оценка лучшей модели на валидационных данных\n",
        "performance = best_model.model_performance(val_h2o)\n",
        "print(\"\\nModel Performance on Validation Set:\")\n",
        "print(performance)"
      ]
    },
    {
      "cell_type": "code",
      "execution_count": 422,
      "metadata": {
        "id": "kx_J7xSMdWsU"
      },
      "outputs": [
        {
          "ename": "NameError",
          "evalue": "name 'best_model' is not defined",
          "output_type": "error",
          "traceback": [
            "\u001b[1;31m---------------------------------------------------------------------------\u001b[0m",
            "\u001b[1;31mNameError\u001b[0m                                 Traceback (most recent call last)",
            "Cell \u001b[1;32mIn[422], line 1\u001b[0m\n\u001b[1;32m----> 1\u001b[0m \u001b[38;5;28mprint\u001b[39m(\u001b[43mbest_model\u001b[49m)\n",
            "\u001b[1;31mNameError\u001b[0m: name 'best_model' is not defined"
          ]
        }
      ],
      "source": [
        "print(best_model)"
      ]
    },
    {
      "cell_type": "code",
      "execution_count": null,
      "metadata": {
        "id": "t5G0p_BZdYW0"
      },
      "outputs": [],
      "source": [
        "# Предсказание на тестовых данных\n",
        "predictions = aml.predict(test_h2o)\n",
        "predictions_df = predictions.as_data_frame()\n",
        "print(predictions)"
      ]
    },
    {
      "cell_type": "code",
      "execution_count": 420,
      "metadata": {
        "id": "it9wIwKVddrk"
      },
      "outputs": [
        {
          "ename": "NameError",
          "evalue": "name 'best_model' is not defined",
          "output_type": "error",
          "traceback": [
            "\u001b[1;31m---------------------------------------------------------------------------\u001b[0m",
            "\u001b[1;31mNameError\u001b[0m                                 Traceback (most recent call last)",
            "Cell \u001b[1;32mIn[420], line 1\u001b[0m\n\u001b[1;32m----> 1\u001b[0m model_path \u001b[38;5;241m=\u001b[39m h2o\u001b[38;5;241m.\u001b[39msave_model(model\u001b[38;5;241m=\u001b[39m\u001b[43mbest_model\u001b[49m, path\u001b[38;5;241m=\u001b[39m\u001b[38;5;124m\"\u001b[39m\u001b[38;5;124m/content/h2o_models\u001b[39m\u001b[38;5;124m\"\u001b[39m, force\u001b[38;5;241m=\u001b[39m\u001b[38;5;28;01mTrue\u001b[39;00m)\n\u001b[0;32m      2\u001b[0m \u001b[38;5;28mprint\u001b[39m(\u001b[38;5;124mf\u001b[39m\u001b[38;5;124m\"\u001b[39m\u001b[38;5;124mModel saved to: \u001b[39m\u001b[38;5;132;01m{\u001b[39;00mmodel_path\u001b[38;5;132;01m}\u001b[39;00m\u001b[38;5;124m\"\u001b[39m)\n",
            "\u001b[1;31mNameError\u001b[0m: name 'best_model' is not defined"
          ]
        }
      ],
      "source": [
        "model_path = h2o.save_model(model=best_model, path=\"/content/h2o_models\", force=True)\n",
        "print(f\"Model saved to: {model_path}\")"
      ]
    },
    {
      "cell_type": "code",
      "execution_count": null,
      "metadata": {
        "id": "sDON7FDwdgid"
      },
      "outputs": [],
      "source": [
        "h2o.shutdown()"
      ]
    }
  ],
  "metadata": {
    "colab": {
      "provenance": []
    },
    "kernelspec": {
      "display_name": ".venv",
      "language": "python",
      "name": "python3"
    },
    "language_info": {
      "codemirror_mode": {
        "name": "ipython",
        "version": 3
      },
      "file_extension": ".py",
      "mimetype": "text/x-python",
      "name": "python",
      "nbconvert_exporter": "python",
      "pygments_lexer": "ipython3",
      "version": "3.10.10"
    }
  },
  "nbformat": 4,
  "nbformat_minor": 0
}
